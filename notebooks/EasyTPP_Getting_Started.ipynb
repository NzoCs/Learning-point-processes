{
 "cells": [
  {
   "cell_type": "markdown",
   "id": "380fc504",
   "metadata": {},
   "source": [
    "# new_ltpp - Getting Started Guide\n",
    "\n",
    "This notebook presents the main features of the **new_ltpp** (Easy Temporal Point Processes) library with practical examples.\n",
    "\n",
    "## 🎯 Notebook Objectives\n",
    "\n",
    "- Understand the basic concepts of temporal point processes\n",
    "- Learn to configure and train models\n",
    "- Explore the different types of data and available models\n",
    "- Visualize and analyze results\n",
    "\n",
    "## 📚 Table of Contents\n",
    "\n",
    "1. [Environment Setup](#1-configuration)\n",
    "2. [Basic Concepts](#2-concepts)\n",
    "3. [Data Loading and Preparation](#3-data-loading-and-preparation)\n",
    "4. [Model Configuration and Training](#4-model-configuration-and-training)\n",
    "5. [Evaluation and Metrics](#5-evaluation-and-metrics)\n",
    "6. [Distribution analysis](#6-advanced-examples)"
   ]
  },
  {
   "cell_type": "markdown",
   "id": "a09a9e71",
   "metadata": {},
   "source": [
    "## 1. Environment Setup {#1-configuration}\n",
    "\n",
    "Let's start by importing the necessary modules and setting up the environment."
   ]
  },
  {
   "cell_type": "code",
   "execution_count": 1,
   "id": "d560867c",
   "metadata": {},
   "outputs": [
    {
     "name": "stdout",
     "output_type": "stream",
     "text": [
      "✅ new_ltpp imported successfully!\n",
      "📁 Project directory: c:\\Users\\enzo.cAo\\Documents\\Projects\\finance\\projet_recherche\\New_LTPP\n"
     ]
    }
   ],
   "source": [
    "from pathlib import Path\n",
    "\n",
    "# Add the project root directory to PYTHONPATH\n",
    "ROOT = Path().absolute().parent\n",
    "\n",
    "CONFIGS = ROOT / \"yaml_configs\" / \"configs.yaml\"\n",
    "\n",
    "# new_ltpp imports (use the new builders and runner manager)\n",
    "from new_ltpp.configs.config_builder import RunnerConfigBuilder, DataConfigBuilder\n",
    "from new_ltpp.runners import RunnerManager\n",
    "from new_ltpp.configs.config_factory import config_factory, ConfigType\n",
    "\n",
    "print(\"✅ new_ltpp imported successfully!\")\n",
    "print(f\"📁 Project directory: {ROOT}\")"
   ]
  },
  {
   "cell_type": "markdown",
   "id": "24b812fe",
   "metadata": {},
   "source": [
    "## 2. Basic Concepts {#2-concepts}\n",
    "\n",
    "### What is a Temporal Point Process?\n",
    "\n",
    "A **Temporal Point Process** (TPP) is a sequence of events that occur over time. Each event is characterized by:\n",
    "\n",
    "- **Occurrence time**: When the event happens\n",
    "- **Event type**: What category of event (optional)\n",
    "\n",
    "### Application examples:\n",
    "\n",
    "- 🏥 **Medical**: Patient arrivals at a hospital\n",
    "- 💰 **Finance**: Stock market transactions\n",
    "- 🌍 **Geophysics**: Earthquakes\n",
    "- 📱 **Social Networks**: User posts\n",
    "\n",
    "### Models available in new_ltpp:\n",
    "\n",
    "- **NHP** (Neural Hawkes Process): Hawkes processes with neural networks\n",
    "- **THP** (Transformer Hawkes Process): Based on Transformer architecture\n",
    "- **RMTPP** (Recurrent Marked Temporal Point Process): Based on RNNs\n",
    "- **AttNHP** (Attentive Neural Hawkes Process): With attention mechanism"
   ]
  },
  {
   "cell_type": "markdown",
   "id": "55403dc1",
   "metadata": {},
   "source": [
    "## 3. Data Loading and Preparation {#3-donnees}\n",
    "\n",
    "new_ltpp supports multiple data formats. Let's see how to load and prepare data."
   ]
  },
  {
   "cell_type": "code",
   "execution_count": 2,
   "id": "3fc56858",
   "metadata": {},
   "outputs": [],
   "source": [
    "from new_ltpp.data.preprocess import TPPDataModule"
   ]
  },
  {
   "cell_type": "code",
   "execution_count": 3,
   "id": "de7900d6",
   "metadata": {},
   "outputs": [
    {
     "name": "stdout",
     "output_type": "stream",
     "text": [
      "\u001b[38;20m2025-10-04 02:24:58,479 - config_factory.py[pid:13124;line:94:create_config] - INFO: Création de la configuration: DataConfig\u001b[0m\n",
      "📦 Generated data configuration:\n",
      "DataConfig({'train_dir': 'NzoCs/test_dataset', 'valid_dir': 'NzoCs/test_dataset', 'test_dir': 'NzoCs/test_dataset', 'data_format': 'NzoCs/test_dataset', 'dataset_id': 'test', 'data_loading_specs': {'batch_size': 32, 'tensor_type': 'pt', 'num_workers': 2, 'shuffle': True, 'padding': None, 'truncation': None, 'max_len': None}, 'tokenizer_specs': {'num_event_types': 2, 'pad_token_id': 2, 'padding_side': 'left', 'truncation_side': 'left', 'padding_strategy': 'longest', 'truncation_strategy': None, 'max_len': 128}})\n"
     ]
    }
   ],
   "source": [
    "builder = DataConfigBuilder()\n",
    "builder.set_dataset_id(\"test\")\n",
    "builder.set_src_dir(\"NzoCs/test_dataset\")\n",
    "\n",
    "# Configure basic data loading parameters\n",
    "builder.set_batch_size(32)\n",
    "builder.set_num_workers(2)\n",
    "builder.set_shuffle(True)\n",
    "\n",
    "# Tokenizer specs\n",
    "builder.set_num_event_types(2)\n",
    "builder.set_max_len(128)\n",
    "\n",
    "data_config = builder.build()\n",
    "\n",
    "print(\"📦 Generated data configuration:\")\n",
    "print(data_config)\n"
   ]
  },
  {
   "cell_type": "code",
   "execution_count": 4,
   "id": "839c8bab",
   "metadata": {},
   "outputs": [
    {
     "name": "stdout",
     "output_type": "stream",
     "text": [
      "\u001b[38;20m2025-10-04 02:24:58,527 - data_loader.py[pid:13124;line:140:setup] - INFO: Setting up data for stage: fit\u001b[0m\n"
     ]
    },
    {
     "name": "stderr",
     "output_type": "stream",
     "text": [
      "c:\\Users\\enzo.cAo\\Documents\\Projects\\finance\\projet_recherche\\New_LTPP\\.venv\\Lib\\site-packages\\tqdm\\auto.py:21: TqdmWarning: IProgress not found. Please update jupyter and ipywidgets. See https://ipywidgets.readthedocs.io/en/stable/user_install.html\n",
      "  from .autonotebook import tqdm as notebook_tqdm\n"
     ]
    },
    {
     "name": "stdout",
     "output_type": "stream",
     "text": [
      "\u001b[38;20m2025-10-04 02:25:19,490 - data_loader.py[pid:13124;line:149:setup] - INFO: Train dataset created with 6 sequences\u001b[0m\n",
      "\u001b[38;20m2025-10-04 02:25:32,233 - data_loader.py[pid:13124;line:158:setup] - INFO: Validation dataset created with 2 sequences\u001b[0m\n",
      "✅ Data loaders created successfully!\n",
      "   📈 Train loader: 1 batches\n",
      "   📊 Validation loader: 1 batches\n"
     ]
    }
   ],
   "source": [
    "# Create data module\n",
    "datamodule = TPPDataModule(data_config)\n",
    "datamodule.setup(stage='fit')  # Setup for training and validation\n",
    "\n",
    "# Get data loaders\n",
    "train_loader = datamodule.train_dataloader()\n",
    "val_loader = datamodule.val_dataloader()\n",
    "\n",
    "print(\"✅ Data loaders created successfully!\")\n",
    "print(f\"   📈 Train loader: {len(train_loader)} batches\")\n",
    "print(f\"   📊 Validation loader: {len(val_loader)} batches\")"
   ]
  },
  {
   "cell_type": "markdown",
   "id": "add42398",
   "metadata": {},
   "source": [
    "### Data Inspection\n",
    "\n",
    "Let's use the Visualizer to analyze the data distribution."
   ]
  },
  {
   "cell_type": "code",
   "execution_count": 5,
   "id": "fc5e9c6f",
   "metadata": {},
   "outputs": [
    {
     "name": "stdout",
     "output_type": "stream",
     "text": [
      "Generating visualization plots...\n",
      "Metadata saved to ./analysis_plots\\inter_event_time_dist.json\n",
      "Inter-event time distribution plot saved to ./analysis_plots\\inter_event_time_dist.png\n",
      "Metadata saved to ./analysis_plots\\inter_event_time_dist.json\n",
      "Inter-event time distribution plot saved to ./analysis_plots\\inter_event_time_dist.png\n"
     ]
    },
    {
     "data": {
      "image/png": "[encoded data removed]",
      "text/plain": [
       "<Figure size 1000x600 with 1 Axes>"
      ]
     },
     "metadata": {},
     "output_type": "display_data"
    },
    {
     "name": "stdout",
     "output_type": "stream",
     "text": [
      "Metadata saved to ./analysis_plots\\event_type_dist.json\n",
      "Event type distribution plot saved to ./analysis_plots\\event_type_dist.png\n"
     ]
    },
    {
     "data": {
      "image/png": "[encoded data removed]",
      "text/plain": [
       "<Figure size 1000x600 with 1 Axes>"
      ]
     },
     "metadata": {},
     "output_type": "display_data"
    },
    {
     "name": "stdout",
     "output_type": "stream",
     "text": [
      "Metadata saved to ./analysis_plots\\sequence_length_dist.json\n",
      "Sequence length distribution plot saved to ./analysis_plots\\sequence_length_dist.png\n"
     ]
    },
    {
     "data": {
      "image/png": "[encoded data removed]",
      "text/plain": [
       "<Figure size 1000x600 with 1 Axes>"
      ]
     },
     "metadata": {},
     "output_type": "display_data"
    },
    {
     "name": "stdout",
     "output_type": "stream",
     "text": [
      "All plots generated successfully!\n",
      "Metadata saved to ./analysis_plots\\inter_event_time_dist.json\n",
      "Inter-event time distribution plot saved to ./analysis_plots\\inter_event_time_dist.png\n",
      "Metadata saved to ./analysis_plots\\inter_event_time_dist.json\n",
      "Inter-event time distribution plot saved to ./analysis_plots\\inter_event_time_dist.png\n"
     ]
    },
    {
     "data": {
      "image/png": "[encoded data removed]",
      "text/plain": [
       "<Figure size 1000x600 with 1 Axes>"
      ]
     },
     "metadata": {},
     "output_type": "display_data"
    },
    {
     "name": "stdout",
     "output_type": "stream",
     "text": [
      "Metadata saved to ./analysis_plots\\event_type_dist.json\n",
      "Event type distribution plot saved to ./analysis_plots\\event_type_dist.png\n"
     ]
    },
    {
     "data": {
      "image/png": "[encoded data removed]",
      "text/plain": [
       "<Figure size 1000x600 with 1 Axes>"
      ]
     },
     "metadata": {},
     "output_type": "display_data"
    },
    {
     "name": "stdout",
     "output_type": "stream",
     "text": [
      "📈 Analysis plots generated!\n",
      "   Check the './analysis_plots' folder for saved graphs\n"
     ]
    }
   ],
   "source": [
    "from new_ltpp.data.preprocess.visualizer import Visualizer\n",
    "\n",
    "# Create the visualizer\n",
    "visualizer = Visualizer(\n",
    "    data_module=datamodule,\n",
    "    split=\"train\",\n",
    "    save_dir=\"./analysis_plots\"\n",
    ")\n",
    "\n",
    "# Generate visualizations\n",
    "visualizer.show_all_distributions(show_graph=True)\n",
    "visualizer.delta_times_distribution(show_graph=True)\n",
    "visualizer.event_type_distribution(show_graph=True)\n",
    "\n",
    "print(\"📈 Analysis plots generated!\")\n",
    "print(\"   Check the './analysis_plots' folder for saved graphs\")"
   ]
  },
  {
   "cell_type": "markdown",
   "id": "3a746ab2",
   "metadata": {},
   "source": [
    "## 4. Model Configuration and Training {#4-entrainement}\n",
    "\n",
    "Now, let's configure and train a Neural Hawkes Process (NHP) model."
   ]
  },
  {
   "cell_type": "code",
   "execution_count": 6,
   "id": "dcd1aaa2",
   "metadata": {},
   "outputs": [
    {
     "name": "stdout",
     "output_type": "stream",
     "text": [
      "\u001b[38;20m2025-10-04 02:27:55,699 - config_factory.py[pid:13124;line:94:create_config] - INFO: Création de la configuration: RunnerConfig\u001b[0m\n",
      "⚙️ Runner configuration built via factory + builder\n",
      "   🧠 Model: NHP\n",
      "   📊 Dataset: test\n",
      "⚙️ Runner configuration built via factory + builder\n",
      "   🧠 Model: NHP\n",
      "   📊 Dataset: test\n"
     ]
    }
   ],
   "source": [
    "# Build runner configuration from YAML using RunnerConfigBuilder\n",
    "runner_builder = RunnerConfigBuilder()\n",
    "runner_builder.load_from_yaml(\n",
    "    yaml_file_path=str(CONFIGS),\n",
    "    training_config_path=\"training_configs.quick_test\",\n",
    "    model_config_path=\"model_configs.neural_small\",\n",
    "    data_loading_config_path=\"data_loading_configs.quick_test\",\n",
    "    thinning_config_path=\"thinning_configs.thinning_fast\",\n",
    "    logger_config_path=\"logger_configs.csv\",\n",
    "    simulation_config_path=\"simulation_configs.simulation_fast\",\n",
    "    data_config_path=\"data_configs.test\",\n",
    ")\n",
    "\n",
    "runner_config = runner_builder.build(model_id=\"NHP\")\n",
    "\n",
    "print(\"⚙️ Runner configuration built via factory + builder\")\n",
    "print(f\"   🧠 Model: NHP\")\n",
    "print(f\"   📊 Dataset: test\")"
   ]
  },
  {
   "cell_type": "code",
   "execution_count": 8,
   "id": "8880ea23",
   "metadata": {},
   "outputs": [
    {
     "name": "stdout",
     "output_type": "stream",
     "text": [
      "⚙️ Building runner config programmatically without YAML...\n",
      "\u001b[38;20m2025-10-04 02:28:22,426 - config_factory.py[pid:13124;line:94:create_config] - INFO: Création de la configuration: DataConfig\u001b[0m\n",
      "\u001b[38;20m2025-10-04 02:28:22,429 - config_factory.py[pid:13124;line:94:create_config] - INFO: Création de la configuration: ModelConfig\u001b[0m\n",
      "\u001b[38;20m2025-10-04 02:28:22,431 - config_factory.py[pid:13124;line:94:create_config] - INFO: Création de la configuration: RunnerConfig\u001b[0m\n",
      "✅ Programmatic runner config built successfully!\n",
      "   🧠 Model: NHP\n",
      "   📊 Dataset: test\n",
      "   🔢 Max Epochs: 50\n",
      "   📦 Batch Size: 64\n",
      "   💾 Save Dir: C:\\Users\\enzo.cAo\\Documents\\Projects\\finance\\projet_recherche\\New_LTPP\\artifacts\\custom_output\n",
      "\u001b[38;20m2025-10-04 02:28:22,429 - config_factory.py[pid:13124;line:94:create_config] - INFO: Création de la configuration: ModelConfig\u001b[0m\n",
      "\u001b[38;20m2025-10-04 02:28:22,431 - config_factory.py[pid:13124;line:94:create_config] - INFO: Création de la configuration: RunnerConfig\u001b[0m\n",
      "✅ Programmatic runner config built successfully!\n",
      "   🧠 Model: NHP\n",
      "   📊 Dataset: test\n",
      "   🔢 Max Epochs: 50\n",
      "   📦 Batch Size: 64\n",
      "   💾 Save Dir: C:\\Users\\enzo.cAo\\Documents\\Projects\\finance\\projet_recherche\\New_LTPP\\artifacts\\custom_output\n"
     ]
    }
   ],
   "source": [
    "# Alternative: Build runner config programmatically using set_* methods (no YAML loading)\n",
    "print(\"⚙️ Building runner config programmatically without YAML...\")\n",
    "\n",
    "# Create a new RunnerConfigBuilder instance\n",
    "programmatic_builder = RunnerConfigBuilder()\n",
    "\n",
    "# Build data config using the data_builder attribute\n",
    "programmatic_builder.data_builder.set_num_event_types(2)\n",
    "programmatic_builder.data_builder.set_dataset_id(\"test\")\n",
    "programmatic_builder.data_builder.set_src_dir(\"NzoCs/test_dataset\")\n",
    "programmatic_builder.data_builder.set_batch_size(64)\n",
    "programmatic_builder.data_builder.set_num_workers(2)\n",
    "programmatic_builder.data_builder.set_shuffle(True)\n",
    "programmatic_builder.data_builder.set_max_len(128)\n",
    "\n",
    "# Build and set data config\n",
    "data_config = programmatic_builder.data_builder.build()\n",
    "programmatic_builder.set_data_config(data_config)\n",
    "\n",
    "# Build model config using the model_builder attribute\n",
    "programmatic_builder.model_builder.set_specs({\"hidden_size\": 32, \"mlp_dims\": [32, 32]})\n",
    "\n",
    "# Set scheduler config with explicit parameters\n",
    "programmatic_builder.model_builder.set_scheduler_config(\n",
    "    max_epochs=50,\n",
    "    lr_scheduler=True,\n",
    "    lr=1e-3\n",
    ")\n",
    "\n",
    "# Set simulation config with explicit parameters\n",
    "programmatic_builder.model_builder.set_simulation_config(\n",
    "    start_time=20,\n",
    "    end_time=50,\n",
    "    batch_size=16,\n",
    "    max_sim_events=5000,\n",
    "    seed=42\n",
    ")\n",
    "\n",
    "# Set thinning config with explicit parameters\n",
    "programmatic_builder.model_builder.set_thinning_config(\n",
    "    num_sample=15,\n",
    "    num_exp=50,\n",
    "    use_mc_samples=True,\n",
    "    loss_integral_num_sample_per_step=10,\n",
    "    num_steps=10,\n",
    "    over_sample_rate=1.2,\n",
    "    num_samples_boundary=5,\n",
    "    dtime_max=3.0\n",
    ")\n",
    "\n",
    "# Build and set model config\n",
    "model_config = programmatic_builder.model_builder.build()\n",
    "programmatic_builder.set_model_config(model_config)\n",
    "\n",
    "# Set training config using convenience methods\n",
    "programmatic_builder.set_max_epochs(50)\n",
    "programmatic_builder.set_batch_size(64)\n",
    "programmatic_builder.set_lr(1e-3)\n",
    "programmatic_builder.set_lr_scheduler(True)\n",
    "programmatic_builder.set_val_freq(1)\n",
    "programmatic_builder.set_patience(3)\n",
    "programmatic_builder.set_accumulate_grad_batches(1)\n",
    "programmatic_builder.set_devices(1)\n",
    "\n",
    "# Set runner-specific parameters\n",
    "programmatic_builder.set_save_dir(\"./custom_output\")\n",
    "\n",
    "# Build the final config\n",
    "custom_runner_config = programmatic_builder.build(model_id=\"NHP\")\n",
    "\n",
    "print(\"✅ Programmatic runner config built successfully!\")\n",
    "print(f\"   🧠 Model: NHP\")\n",
    "print(f\"   📊 Dataset: test\")\n",
    "print(f\"   🔢 Max Epochs: {custom_runner_config.training_config.max_epochs}\")\n",
    "print(f\"   📦 Batch Size: {custom_runner_config.training_config.batch_size}\")\n",
    "print(f\"   💾 Save Dir: {custom_runner_config.save_dir}\")\n"
   ]
  },
  {
   "cell_type": "code",
   "execution_count": null,
   "id": "84658b67",
   "metadata": {},
   "outputs": [
    {
     "name": "stdout",
     "output_type": "stream",
     "text": [
      "\u001b[31;1m2025-10-04 02:29:24,217 - runner.py[pid:13124;line:32:__init__] - CRITICAL: Runner initialized for model: NHP on dataset: test\u001b[0m\n",
      "🚀 Starting training...\n",
      "   This may take a few minutes depending on your configuration.\n",
      "\u001b[38;20m2025-10-04 02:29:24,220 - runner.py[pid:13124;line:97:run] - INFO: Runner executing phases: ['train']\u001b[0m\n",
      "\u001b[38;20m2025-10-04 02:29:24,222 - runner.py[pid:13124;line:55:train] - INFO: === TRAINING PHASE ===\u001b[0m\n",
      "\u001b[38;20m2025-10-04 02:29:24,224 - model_factory.py[pid:13124;line:42:create_model_by_name] - INFO: Création du modèle: NHP\u001b[0m\n",
      "🚀 Starting training...\n",
      "   This may take a few minutes depending on your configuration.\n",
      "\u001b[38;20m2025-10-04 02:29:24,220 - runner.py[pid:13124;line:97:run] - INFO: Runner executing phases: ['train']\u001b[0m\n",
      "\u001b[38;20m2025-10-04 02:29:24,222 - runner.py[pid:13124;line:55:train] - INFO: === TRAINING PHASE ===\u001b[0m\n",
      "\u001b[38;20m2025-10-04 02:29:24,224 - model_factory.py[pid:13124;line:42:create_model_by_name] - INFO: Création du modèle: NHP\u001b[0m\n",
      "\u001b[38;20m2025-10-04 02:29:24,232 - model_runner.py[pid:13124;line:108:__init__] - INFO: Checkpoint found: loading from ./training_results\\best.ckpt\u001b[0m\n",
      "\u001b[38;20m2025-10-04 02:29:24,235 - model_runner.py[pid:13124;line:119:__init__] - INFO: Loading model from checkpoint: ./training_results\\best.ckpt.\u001b[0m\n",
      "\u001b[38;20m2025-10-04 02:29:24,232 - model_runner.py[pid:13124;line:108:__init__] - INFO: Checkpoint found: loading from ./training_results\\best.ckpt\u001b[0m\n",
      "\u001b[38;20m2025-10-04 02:29:24,235 - model_runner.py[pid:13124;line:119:__init__] - INFO: Loading model from checkpoint: ./training_results\\best.ckpt.\u001b[0m\n",
      "\u001b[38;20m2025-10-04 02:29:24,261 - model_runner.py[pid:13124;line:252:train] - INFO: --- Starting Training for Model : NHP on dataset : test ---\u001b[0m\n",
      "\u001b[38;20m2025-10-04 02:29:24,261 - model_runner.py[pid:13124;line:252:train] - INFO: --- Starting Training for Model : NHP on dataset : test ---\u001b[0m\n"
     ]
    },
    {
     "name": "stderr",
     "output_type": "stream",
     "text": [
      "GPU available: False, used: False\n",
      "TPU available: False, using: 0 TPU cores\n",
      "HPU available: False, using: 0 HPUs\n",
      "TPU available: False, using: 0 TPU cores\n",
      "HPU available: False, using: 0 HPUs\n"
     ]
    },
    {
     "name": "stdout",
     "output_type": "stream",
     "text": [
      "\u001b[38;20m2025-10-04 02:29:24,304 - data_loader.py[pid:13124;line:140:setup] - INFO: Setting up data for stage: fit\u001b[0m\n",
      "\u001b[38;20m2025-10-04 02:29:29,994 - data_loader.py[pid:13124;line:149:setup] - INFO: Train dataset created with 6 sequences\u001b[0m\n",
      "\u001b[38;20m2025-10-04 02:29:29,994 - data_loader.py[pid:13124;line:149:setup] - INFO: Train dataset created with 6 sequences\u001b[0m\n",
      "\u001b[38;20m2025-10-04 02:29:34,480 - data_loader.py[pid:13124;line:158:setup] - INFO: Validation dataset created with 2 sequences\u001b[0m\n",
      "\u001b[38;20m2025-10-04 02:29:34,480 - data_loader.py[pid:13124;line:158:setup] - INFO: Validation dataset created with 2 sequences\u001b[0m\n"
     ]
    },
    {
     "name": "stderr",
     "output_type": "stream",
     "text": [
      "c:\\Users\\enzo.cAo\\Documents\\Projects\\finance\\projet_recherche\\New_LTPP\\.venv\\Lib\\site-packages\\pytorch_lightning\\callbacks\\model_checkpoint.py:751: Checkpoint directory C:\\Users\\enzo.cAo\\Documents\\Projects\\finance\\projet_recherche\\New_LTPP\\notebooks\\training_results exists and is not empty.\n",
      "Restoring states from the checkpoint path at ./training_results\\best.ckpt\n",
      "\n",
      "  | Name            | Type             | Params | Mode \n",
      "-------------------------------------------------------------\n",
      "0 | layer_type_emb  | Embedding        | 384    | train\n",
      "1 | rnn_cell        | ContTimeLSTMCell | 230 K  | train\n",
      "2 | layer_intensity | Sequential       | 260    | train\n",
      "-------------------------------------------------------------\n",
      "230 K     Trainable params\n",
      "0         Non-trainable params\n",
      "230 K     Total params\n",
      "0.924     Total estimated model params size (MB)\n",
      "7         Modules in train mode\n",
      "0         Modules in eval mode\n",
      "\n",
      "  | Name            | Type             | Params | Mode \n",
      "-------------------------------------------------------------\n",
      "0 | layer_type_emb  | Embedding        | 384    | train\n",
      "1 | rnn_cell        | ContTimeLSTMCell | 230 K  | train\n",
      "2 | layer_intensity | Sequential       | 260    | train\n",
      "-------------------------------------------------------------\n",
      "230 K     Trainable params\n",
      "0         Non-trainable params\n",
      "230 K     Total params\n",
      "0.924     Total estimated model params size (MB)\n",
      "7         Modules in train mode\n",
      "0         Modules in eval mode\n",
      "Restored all states from the checkpoint at ./training_results\\best.ckpt\n",
      "Restored all states from the checkpoint at ./training_results\\best.ckpt\n"
     ]
    },
    {
     "name": "stdout",
     "output_type": "stream",
     "text": [
      "                                                                           "
     ]
    },
    {
     "name": "stderr",
     "output_type": "stream",
     "text": [
      "c:\\Users\\enzo.cAo\\Documents\\Projects\\finance\\projet_recherche\\New_LTPP\\.venv\\Lib\\site-packages\\pytorch_lightning\\loops\\fit_loop.py:310: The number of training batches (1) is smaller than the logging interval Trainer(log_every_n_steps=5). Set a lower value for log_every_n_steps if you want to see logs for the training epoch.\n"
     ]
    },
    {
     "name": "stdout",
     "output_type": "stream",
     "text": [
      "Epoch 5: 100%|██████████| 1/1 [00:35<00:00,  0.03it/s, v_num=0, val_loss=2.300, train_loss=1.950]"
     ]
    },
    {
     "name": "stderr",
     "output_type": "stream",
     "text": [
      "Metric val_loss improved by 0.078 >= min_delta = 0.0. New best score: 2.301\n"
     ]
    },
    {
     "name": "stdout",
     "output_type": "stream",
     "text": [
      "Epoch 6: 100%|██████████| 1/1 [00:00<00:00,  1.25it/s, v_num=0, val_loss=2.240, train_loss=1.880]"
     ]
    },
    {
     "name": "stderr",
     "output_type": "stream",
     "text": [
      "Metric val_loss improved by 0.061 >= min_delta = 0.0. New best score: 2.240\n"
     ]
    },
    {
     "name": "stdout",
     "output_type": "stream",
     "text": [
      "Epoch 7: 100%|██████████| 1/1 [00:00<00:00,  1.25it/s, v_num=0, val_loss=2.190, train_loss=1.820]"
     ]
    },
    {
     "name": "stderr",
     "output_type": "stream",
     "text": [
      "Metric val_loss improved by 0.046 >= min_delta = 0.0. New best score: 2.194\n"
     ]
    },
    {
     "name": "stdout",
     "output_type": "stream",
     "text": [
      "Epoch 8: 100%|██████████| 1/1 [00:00<00:00,  1.36it/s, v_num=0, val_loss=2.160, train_loss=1.770]"
     ]
    },
    {
     "name": "stderr",
     "output_type": "stream",
     "text": [
      "Metric val_loss improved by 0.033 >= min_delta = 0.0. New best score: 2.161\n"
     ]
    },
    {
     "name": "stdout",
     "output_type": "stream",
     "text": [
      "Epoch 9: 100%|██████████| 1/1 [00:00<00:00,  1.27it/s, v_num=0, val_loss=2.140, train_loss=1.730]"
     ]
    },
    {
     "name": "stderr",
     "output_type": "stream",
     "text": [
      "Metric val_loss improved by 0.023 >= min_delta = 0.0. New best score: 2.137\n"
     ]
    },
    {
     "name": "stdout",
     "output_type": "stream",
     "text": [
      "Epoch 10: 100%|██████████| 1/1 [00:00<00:00,  2.00it/s, v_num=0, val_loss=2.120, train_loss=1.690]"
     ]
    },
    {
     "name": "stderr",
     "output_type": "stream",
     "text": [
      "Metric val_loss improved by 0.016 >= min_delta = 0.0. New best score: 2.122\n"
     ]
    },
    {
     "name": "stdout",
     "output_type": "stream",
     "text": [
      "Epoch 11: 100%|██████████| 1/1 [00:00<00:00,  1.24it/s, v_num=0, val_loss=2.110, train_loss=1.660]"
     ]
    },
    {
     "name": "stderr",
     "output_type": "stream",
     "text": [
      "Metric val_loss improved by 0.012 >= min_delta = 0.0. New best score: 2.110\n"
     ]
    },
    {
     "name": "stdout",
     "output_type": "stream",
     "text": [
      "Epoch 12: 100%|██████████| 1/1 [00:00<00:00,  1.16it/s, v_num=0, val_loss=2.100, train_loss=1.630]"
     ]
    },
    {
     "name": "stderr",
     "output_type": "stream",
     "text": [
      "Metric val_loss improved by 0.011 >= min_delta = 0.0. New best score: 2.099\n"
     ]
    },
    {
     "name": "stdout",
     "output_type": "stream",
     "text": [
      "Epoch 13: 100%|██████████| 1/1 [00:00<00:00,  1.87it/s, v_num=0, val_loss=2.090, train_loss=1.610]"
     ]
    },
    {
     "name": "stderr",
     "output_type": "stream",
     "text": [
      "Metric val_loss improved by 0.012 >= min_delta = 0.0. New best score: 2.087\n"
     ]
    },
    {
     "name": "stdout",
     "output_type": "stream",
     "text": [
      "Epoch 14: 100%|██████████| 1/1 [00:00<00:00,  1.24it/s, v_num=0, val_loss=2.070, train_loss=1.590]"
     ]
    },
    {
     "name": "stderr",
     "output_type": "stream",
     "text": [
      "Metric val_loss improved by 0.014 >= min_delta = 0.0. New best score: 2.073\n"
     ]
    },
    {
     "name": "stdout",
     "output_type": "stream",
     "text": [
      "Epoch 15: 100%|██████████| 1/1 [00:00<00:00,  1.31it/s, v_num=0, val_loss=2.060, train_loss=1.570]"
     ]
    },
    {
     "name": "stderr",
     "output_type": "stream",
     "text": [
      "Metric val_loss improved by 0.016 >= min_delta = 0.0. New best score: 2.057\n"
     ]
    },
    {
     "name": "stdout",
     "output_type": "stream",
     "text": [
      "Epoch 16: 100%|██████████| 1/1 [00:00<00:00,  1.56it/s, v_num=0, val_loss=2.040, train_loss=1.560]"
     ]
    },
    {
     "name": "stderr",
     "output_type": "stream",
     "text": [
      "Metric val_loss improved by 0.018 >= min_delta = 0.0. New best score: 2.039\n",
      "\n",
      "Detected KeyboardInterrupt, attempting graceful shutdown ...\n",
      "\n",
      "Detected KeyboardInterrupt, attempting graceful shutdown ...\n"
     ]
    },
    {
     "ename": "SystemExit",
     "evalue": "1",
     "output_type": "error",
     "traceback": [
      "An exception has occurred, use %tb to see the full traceback.\n",
      "\u001b[31mSystemExit\u001b[39m\u001b[31m:\u001b[39m 1\n"
     ]
    },
    {
     "name": "stderr",
     "output_type": "stream",
     "text": [
      "c:\\Users\\enzo.cAo\\Documents\\Projects\\finance\\projet_recherche\\New_LTPP\\.venv\\Lib\\site-packages\\IPython\\core\\interactiveshell.py:3707: UserWarning: To exit: use 'exit', 'quit', or Ctrl-D.\n",
      "  warn(\"To exit: use 'exit', 'quit', or Ctrl-D.\", stacklevel=1)\n"
     ]
    }
   ],
   "source": [
    "# Create runner manager and start training\n",
    "runner = RunnerManager(config=custom_runner_config, output_dir=\"./training_results\")\n",
    "\n",
    "print(\"🚀 Starting training...\")\n",
    "print(\"   This may take a few minutes depending on your configuration.\")\n",
    "\n",
    "# Train the model\n",
    "runner.run(phase=\"train\")\n",
    "\n",
    "print(\"✅ Training completed!\")"
   ]
  },
  {
   "cell_type": "markdown",
   "id": "de87b8ef",
   "metadata": {},
   "source": [
    "## 5. Evaluation and Metrics {#5-evaluation}\n",
    "\n",
    "Let's now evaluate the performance of the trained model."
   ]
  },
  {
   "cell_type": "code",
   "execution_count": 8,
   "id": "5dcaf902",
   "metadata": {},
   "outputs": [
    {
     "name": "stdout",
     "output_type": "stream",
     "text": [
      "🧪 Evaluating model on test dataset...\n",
      "\u001b[38;20m2025-10-03 22:27:30,584 - runner.py[pid:504;line:97:run] - INFO: Runner executing phases: ['test']\u001b[0m\n",
      "\u001b[31;1m2025-10-03 22:27:30,585 - runner.py[pid:504;line:61:test] - CRITICAL: === TESTING PHASE ===\u001b[0m\n",
      "\u001b[38;20m2025-10-03 22:27:30,587 - model_runner.py[pid:504;line:275:test] - INFO: --- Starting Testing for Model : NHP on dataset : test ---\u001b[0m\n",
      "\u001b[38;20m2025-10-03 22:27:30,588 - data_loader.py[pid:504;line:140:setup] - INFO: Setting up data for stage: test\u001b[0m\n"
     ]
    },
    {
     "name": "stderr",
     "output_type": "stream",
     "text": [
      "Restoring states from the checkpoint path at C:\\Users\\enzo.cAo\\Documents\\Projects\\finance\\projet_recherche\\New_LTPP\\artifacts\\checkpoints\\NHP\\test\\saved_model\\best.ckpt\n",
      "Loaded model weights from the checkpoint at C:\\Users\\enzo.cAo\\Documents\\Projects\\finance\\projet_recherche\\New_LTPP\\artifacts\\checkpoints\\NHP\\test\\saved_model\\best.ckpt\n",
      "c:\\Users\\enzo.cAo\\Documents\\Projects\\finance\\projet_recherche\\New_LTPP\\.venv\\Lib\\site-packages\\pytorch_lightning\\trainer\\connectors\\data_connector.py:433: The 'test_dataloader' does not have many workers which may be a bottleneck. Consider increasing the value of the `num_workers` argument` to `num_workers=15` in the `DataLoader` to improve performance.\n"
     ]
    },
    {
     "name": "stdout",
     "output_type": "stream",
     "text": [
      "Testing DataLoader 0: 100%|██████████| 1/1 [00:00<00:00,  9.79it/s]\n"
     ]
    },
    {
     "data": {
      "text/html": [
       "<pre style=\"white-space:pre;overflow-x:auto;line-height:normal;font-family:Menlo,'DejaVu Sans Mono',consolas,'Courier New',monospace\">┏━━━━━━━━━━━━━━━━━━━━━━━━━━━┳━━━━━━━━━━━━━━━━━━━━━━━━━━━┓\n",
       "┃<span style=\"font-weight: bold\">        Test metric        </span>┃<span style=\"font-weight: bold\">       DataLoader 0        </span>┃\n",
       "┡━━━━━━━━━━━━━━━━━━━━━━━━━━━╇━━━━━━━━━━━━━━━━━━━━━━━━━━━┩\n",
       "│<span style=\"color: #008080; text-decoration-color: #008080\">       cross_entropy       </span>│<span style=\"color: #800080; text-decoration-color: #800080\">    0.49844682216644287    </span>│\n",
       "│<span style=\"color: #008080; text-decoration-color: #008080\">       macro_f1score       </span>│<span style=\"color: #800080; text-decoration-color: #800080\">     81.37931060791016     </span>│\n",
       "│<span style=\"color: #008080; text-decoration-color: #008080\">         precision         </span>│<span style=\"color: #800080; text-decoration-color: #800080\">     81.37931060791016     </span>│\n",
       "│<span style=\"color: #008080; text-decoration-color: #008080\">          recall           </span>│<span style=\"color: #800080; text-decoration-color: #800080\">     81.37931060791016     </span>│\n",
       "│<span style=\"color: #008080; text-decoration-color: #008080\">         test_loss         </span>│<span style=\"color: #800080; text-decoration-color: #800080\">    1.8649168014526367     </span>│\n",
       "│<span style=\"color: #008080; text-decoration-color: #008080\">         time_mae          </span>│<span style=\"color: #800080; text-decoration-color: #800080\">    1.8242831230163574     </span>│\n",
       "│<span style=\"color: #008080; text-decoration-color: #008080\">         time_rmse         </span>│<span style=\"color: #800080; text-decoration-color: #800080\">     2.947070837020874     </span>│\n",
       "│<span style=\"color: #008080; text-decoration-color: #008080\">       type_accuracy       </span>│<span style=\"color: #800080; text-decoration-color: #800080\">     81.48148345947266     </span>│\n",
       "└───────────────────────────┴───────────────────────────┘\n",
       "</pre>\n"
      ],
      "text/plain": [
       "┏━━━━━━━━━━━━━━━━━━━━━━━━━━━┳━━━━━━━━━━━━━━━━━━━━━━━━━━━┓\n",
       "┃\u001b[1m \u001b[0m\u001b[1m       Test metric       \u001b[0m\u001b[1m \u001b[0m┃\u001b[1m \u001b[0m\u001b[1m      DataLoader 0       \u001b[0m\u001b[1m \u001b[0m┃\n",
       "┡━━━━━━━━━━━━━━━━━━━━━━━━━━━╇━━━━━━━━━━━━━━━━━━━━━━━━━━━┩\n",
       "│\u001b[36m \u001b[0m\u001b[36m      cross_entropy      \u001b[0m\u001b[36m \u001b[0m│\u001b[35m \u001b[0m\u001b[35m   0.49844682216644287   \u001b[0m\u001b[35m \u001b[0m│\n",
       "│\u001b[36m \u001b[0m\u001b[36m      macro_f1score      \u001b[0m\u001b[36m \u001b[0m│\u001b[35m \u001b[0m\u001b[35m    81.37931060791016    \u001b[0m\u001b[35m \u001b[0m│\n",
       "│\u001b[36m \u001b[0m\u001b[36m        precision        \u001b[0m\u001b[36m \u001b[0m│\u001b[35m \u001b[0m\u001b[35m    81.37931060791016    \u001b[0m\u001b[35m \u001b[0m│\n",
       "│\u001b[36m \u001b[0m\u001b[36m         recall          \u001b[0m\u001b[36m \u001b[0m│\u001b[35m \u001b[0m\u001b[35m    81.37931060791016    \u001b[0m\u001b[35m \u001b[0m│\n",
       "│\u001b[36m \u001b[0m\u001b[36m        test_loss        \u001b[0m\u001b[36m \u001b[0m│\u001b[35m \u001b[0m\u001b[35m   1.8649168014526367    \u001b[0m\u001b[35m \u001b[0m│\n",
       "│\u001b[36m \u001b[0m\u001b[36m        time_mae         \u001b[0m\u001b[36m \u001b[0m│\u001b[35m \u001b[0m\u001b[35m   1.8242831230163574    \u001b[0m\u001b[35m \u001b[0m│\n",
       "│\u001b[36m \u001b[0m\u001b[36m        time_rmse        \u001b[0m\u001b[36m \u001b[0m│\u001b[35m \u001b[0m\u001b[35m    2.947070837020874    \u001b[0m\u001b[35m \u001b[0m│\n",
       "│\u001b[36m \u001b[0m\u001b[36m      type_accuracy      \u001b[0m\u001b[36m \u001b[0m│\u001b[35m \u001b[0m\u001b[35m    81.48148345947266    \u001b[0m\u001b[35m \u001b[0m│\n",
       "└───────────────────────────┴───────────────────────────┘\n"
      ]
     },
     "metadata": {},
     "output_type": "display_data"
    },
    {
     "name": "stdout",
     "output_type": "stream",
     "text": [
      "\u001b[38;20m2025-10-03 22:27:47,332 - model_runner.py[pid:504;line:299:test] - INFO: Test results saved to C:\\Users\\enzo.cAo\\Documents\\Projects\\finance\\projet_recherche\\New_LTPP\\artifacts\\checkpoints\\NHP\\test\\saved_model\\test_results.json\u001b[0m\n",
      "📊 Evaluation results:\n",
      "✅ Evaluation completed - check logs for detailed metrics\n"
     ]
    }
   ],
   "source": [
    "# Evaluation on test dataset\n",
    "print(\"🧪 Evaluating model on test dataset...\")\n",
    "\n",
    "test_results = runner.run(phase=\"test\")\n",
    "\n",
    "print(\"📊 Evaluation results:\")\n",
    "if hasattr(runner, 'test_metrics'):\n",
    "    for metric_name, value in runner.test_metrics.items():\n",
    "        print(f\"   {metric_name}: {value:.4f}\")\n",
    "else:\n",
    "    print(\"✅ Evaluation completed - check logs for detailed metrics\")"
   ]
  },
  {
   "cell_type": "markdown",
   "id": "98613a0c",
   "metadata": {},
   "source": [
    "### Comparison with Baselines\n",
    "\n",
    "Let's compare our model with simple baselines."
   ]
  },
  {
   "cell_type": "code",
   "execution_count": 9,
   "id": "843afc66",
   "metadata": {},
   "outputs": [
    {
     "name": "stdout",
     "output_type": "stream",
     "text": [
      "\u001b[38;20m2025-10-03 22:27:51,223 - data_loader.py[pid:504;line:140:setup] - INFO: Setting up data for stage: test\u001b[0m\n",
      "📊 Baseline benchmark (mean):\n",
      "\u001b[38;20m2025-10-03 22:27:56,182 - base_bench.py[pid:504;line:146:evaluate] - INFO: Starting mean_inter_time benchmark evaluation...\u001b[0m\n",
      "\u001b[38;20m2025-10-03 22:27:56,183 - mean_bench.py[pid:504;line:52:_prepare_benchmark] - INFO: Computing mean inter-time from training data...\u001b[0m\n",
      "\u001b[38;20m2025-10-03 22:28:05,228 - mean_bench.py[pid:504;line:75:_prepare_benchmark] - INFO: Computed mean inter-time: 1.506245\u001b[0m\n",
      "\u001b[38;20m2025-10-03 22:28:16,715 - base_bench.py[pid:504;line:364:_save_results] - INFO: Results saved to: ./benchmark_results\\test\\mean_inter_time_results.json\u001b[0m\n",
      "\u001b[38;20m2025-10-03 22:28:16,716 - base_bench.py[pid:504;line:373:_log_summary] - INFO: mean_inter_time benchmark completed successfully!\u001b[0m\n",
      "\u001b[38;20m2025-10-03 22:28:16,716 - base_bench.py[pid:504;line:379:_log_summary] - INFO: Time RMSE: 2.772637\u001b[0m\n",
      "\u001b[38;20m2025-10-03 22:28:16,718 - base_bench.py[pid:504;line:381:_log_summary] - INFO: Time MAE: 1.840395\u001b[0m\n",
      "   Results: {'benchmark_name': 'mean_inter_time', 'num_event_types': 2, 'metrics': {'time_rmse_mean': 2.772637367248535, 'time_rmse_std': 0.0, 'time_rmse_min': 2.772637367248535, 'time_rmse_max': 2.772637367248535, 'time_mae_mean': 1.8403947353363037, 'time_mae_std': 0.0, 'time_mae_min': 1.8403947353363037, 'time_mae_max': 1.8403947353363037}, 'num_batches_evaluated': 1, 'mean_inter_time_used': 1.5062450681413924}\n",
      "\u001b[38;20m2025-10-03 22:28:18,019 - data_loader.py[pid:504;line:140:setup] - INFO: Setting up data for stage: test\u001b[0m\n",
      "\n",
      "📊 Type distribution benchmark:\n",
      "\u001b[38;20m2025-10-03 22:28:23,627 - base_bench.py[pid:504;line:146:evaluate] - INFO: Starting mark_distribution_sampling benchmark evaluation...\u001b[0m\n",
      "\u001b[38;20m2025-10-03 22:28:23,629 - sample_distrib_mark_bench.py[pid:504;line:56:_prepare_benchmark] - INFO: Collecting event marks from test data...\u001b[0m\n",
      "\u001b[38;20m2025-10-03 22:28:34,099 - sample_distrib_mark_bench.py[pid:504;line:93:_prepare_benchmark] - INFO: Collected 56 event marks\u001b[0m\n",
      "\u001b[38;20m2025-10-03 22:28:34,102 - sample_distrib_mark_bench.py[pid:504;line:94:_prepare_benchmark] - INFO: Event type distribution: {0: tensor(0.4464), 1: tensor(0.5536)}\u001b[0m\n",
      "\u001b[38;20m2025-10-03 22:28:52,951 - base_bench.py[pid:504;line:364:_save_results] - INFO: Results saved to: ./benchmark_results\\test\\mark_distribution_sampling_results.json\u001b[0m\n",
      "\u001b[38;20m2025-10-03 22:28:52,960 - base_bench.py[pid:504;line:373:_log_summary] - INFO: mark_distribution_sampling benchmark completed successfully!\u001b[0m\n",
      "\u001b[38;20m2025-10-03 22:28:52,968 - base_bench.py[pid:504;line:385:_log_summary] - INFO: Type Accuracy: 55.357140\u001b[0m\n",
      "\u001b[38;20m2025-10-03 22:28:52,973 - base_bench.py[pid:504;line:387:_log_summary] - INFO: Macro F1 Score: 55.228651\u001b[0m\n",
      "   Results: {'benchmark_name': 'mark_distribution_sampling', 'num_event_types': 2, 'metrics': {'type_accuracy_mean': 55.35714030265808, 'type_accuracy_std': 0.0, 'type_accuracy_min': 55.35714030265808, 'type_accuracy_max': 55.35714030265808, 'macro_f1score_mean': 55.22865056991577, 'macro_f1score_std': 0.0, 'macro_f1score_min': 55.22865056991577, 'macro_f1score_max': 55.22865056991577, 'recall_mean': 55.419355630874634, 'recall_std': 0.0, 'recall_min': 55.419355630874634, 'recall_max': 55.419355630874634, 'precision_mean': 55.35714626312256, 'precision_std': 0.0, 'precision_min': 55.35714626312256, 'precision_max': 55.35714626312256, 'cross_entropy_mean': 0.7596902847290039, 'cross_entropy_std': 0.0, 'cross_entropy_min': 0.7596902847290039, 'cross_entropy_max': 0.7596902847290039, 'confusion_matrix': [[14, 11], [14, 17]]}, 'num_batches_evaluated': 1, 'distribution_stats': {'entropy': 0.6873963475227356}}\n"
     ]
    }
   ],
   "source": [
    "from new_ltpp.evaluation.benchmarks.mean_bench import MeanInterTimeBenchmark\n",
    "from new_ltpp.evaluation.benchmarks.sample_distrib_mark_bench import MarkDistributionBenchmark\n",
    "\n",
    "# Baseline benchmark: mean prediction\n",
    "mean_benchmark = MeanInterTimeBenchmark(\n",
    "    data_config=data_config,\n",
    "    save_dir=\"./benchmark_results\"\n",
    ")\n",
    "\n",
    "print(\"📊 Baseline benchmark (mean):\")\n",
    "mean_results = mean_benchmark.evaluate()\n",
    "print(f\"   Results: {mean_results}\")\n",
    "\n",
    "# Type distribution benchmark\n",
    "mark_benchmark = MarkDistributionBenchmark(\n",
    "    data_config=data_config,\n",
    "    save_dir=\"./benchmark_results\"\n",
    ")\n",
    "\n",
    "print(\"\\n📊 Type distribution benchmark:\")\n",
    "mark_results = mark_benchmark.evaluate()\n",
    "print(f\"   Results: {mark_results}\")"
   ]
  },
  {
   "cell_type": "markdown",
   "id": "79af9f88",
   "metadata": {},
   "source": [
    "## 6. Advanced Examples {#6-avances}\n",
    "\n",
    "### Synthetic Data Generation\n",
    "\n",
    "new_ltpp allows generating synthetic data to test models."
   ]
  },
  {
   "cell_type": "code",
   "execution_count": 10,
   "id": "6fa8e887",
   "metadata": {},
   "outputs": [
    {
     "name": "stdout",
     "output_type": "stream",
     "text": [
      "🎲 Generating synthetic data...\n",
      "Génération de 10 simulations 2D...\n"
     ]
    },
    {
     "name": "stderr",
     "output_type": "stream",
     "text": [
      "Simulation de 10 processus: 100%|██████████| 10/10 [00:00<00:00, 51.38it/s]\n"
     ]
    },
    {
     "name": "stdout",
     "output_type": "stream",
     "text": [
      "Division des données en ensembles train/test/dev...\n",
      "Sauvegarde des données...\n",
      "Toutes les données ont été sauvegardées dans ./synthetic_data\n",
      "✅ Synthetic data generated in './synthetic_data'\n"
     ]
    }
   ],
   "source": [
    "from new_ltpp.data.generation import HawkesSimulator\n",
    "\n",
    "# Hawkes process configuration\n",
    "params = {\n",
    "    \"mu\": [0.1, 0.2],                    # Base intensities\n",
    "    \"alpha\": [[0.3, 0.1], [0.2, 0.4]],  # Excitation matrix\n",
    "    \"beta\": [[2, 1], [1.5, 3]]          # Decay matrix\n",
    "}\n",
    "\n",
    "# Create simulator\n",
    "simulator = HawkesSimulator(\n",
    "    mu=params[\"mu\"],\n",
    "    alpha=params[\"alpha\"],\n",
    "    beta=params[\"beta\"],\n",
    "    dim_process=2,\n",
    "    start_time=0,\n",
    "    end_time=100\n",
    ")\n",
    "\n",
    "print(\"🎲 Generating synthetic data...\")\n",
    "\n",
    "# Generate and save\n",
    "simulator.generate_and_save(\n",
    "    output_dir='./synthetic_data',\n",
    "    num_simulations=10,\n",
    "    splits={'train': 0.6, 'test': 0.2, 'dev': 0.2}\n",
    ")\n",
    "\n",
    "print(\"✅ Synthetic data generated in './synthetic_data'\")"
   ]
  },
  {
   "cell_type": "markdown",
   "id": "249be884",
   "metadata": {},
   "source": [
    "## 6. Prediction Phase and Distribution Analysis\n",
    "\n",
    "**Why the prediction phase is crucial:**\n",
    "\n",
    "Temporal Point Process (TPP) models don't just serve to calculate performance metrics - their true value lies in their ability to **predict and simulate** new events. These predictions enable:\n",
    "\n",
    "1. **Distribution comparisons** - Analyze whether the model captures temporal patterns well\n",
    "2. **Realistic benchmarks** - Compare model simulations to real data  \n",
    "3. **Qualitative validation** - Visualize differences between predictions and reality\n",
    "4. **Practical applications** - Generate future scenarios for decision-making\n",
    "\n",
    "### 6.1 Complete Pipeline with Predictions"
   ]
  },
  {
   "cell_type": "code",
   "execution_count": 12,
   "id": "0b125ef7",
   "metadata": {},
   "outputs": [
    {
     "name": "stdout",
     "output_type": "stream",
     "text": [
      "🔄 Complete pipeline with predictions...\n",
      "🔮 Generating predictions and distribution comparisons...\n",
      "\u001b[38;20m2025-10-03 22:30:00,294 - runner.py[pid:504;line:97:run] - INFO: Runner executing phases: ['predict']\u001b[0m\n",
      "\u001b[31;1m2025-10-03 22:30:00,297 - runner.py[pid:504;line:67:predict] - CRITICAL: === PREDICTION PHASE ===\u001b[0m\n",
      "\u001b[38;20m2025-10-03 22:30:00,298 - model_runner.py[pid:504;line:305:predict] - INFO: --- Starting Prediction for Model : NHP on dataset : test ---\u001b[0m\n",
      "\u001b[38;20m2025-10-03 22:30:00,300 - data_loader.py[pid:504;line:140:setup] - INFO: Setting up data for stage: predict\u001b[0m\n",
      "\u001b[31;1m2025-10-03 22:30:00,297 - runner.py[pid:504;line:67:predict] - CRITICAL: === PREDICTION PHASE ===\u001b[0m\n",
      "\u001b[38;20m2025-10-03 22:30:00,298 - model_runner.py[pid:504;line:305:predict] - INFO: --- Starting Prediction for Model : NHP on dataset : test ---\u001b[0m\n",
      "\u001b[38;20m2025-10-03 22:30:00,300 - data_loader.py[pid:504;line:140:setup] - INFO: Setting up data for stage: predict\u001b[0m\n"
     ]
    },
    {
     "name": "stderr",
     "output_type": "stream",
     "text": [
      "Restoring states from the checkpoint path at C:\\Users\\enzo.cAo\\Documents\\Projects\\finance\\projet_recherche\\New_LTPP\\artifacts\\checkpoints\\NHP\\test\\saved_model\\best.ckpt\n",
      "Loaded model weights from the checkpoint at C:\\Users\\enzo.cAo\\Documents\\Projects\\finance\\projet_recherche\\New_LTPP\\artifacts\\checkpoints\\NHP\\test\\saved_model\\best.ckpt\n",
      "Loaded model weights from the checkpoint at C:\\Users\\enzo.cAo\\Documents\\Projects\\finance\\projet_recherche\\New_LTPP\\artifacts\\checkpoints\\NHP\\test\\saved_model\\best.ckpt\n",
      "c:\\Users\\enzo.cAo\\Documents\\Projects\\finance\\projet_recherche\\New_LTPP\\.venv\\Lib\\site-packages\\pytorch_lightning\\trainer\\connectors\\data_connector.py:433: The 'predict_dataloader' does not have many workers which may be a bottleneck. Consider increasing the value of the `num_workers` argument` to `num_workers=15` in the `DataLoader` to improve performance.\n",
      "c:\\Users\\enzo.cAo\\Documents\\Projects\\finance\\projet_recherche\\New_LTPP\\.venv\\Lib\\site-packages\\pytorch_lightning\\trainer\\connectors\\data_connector.py:433: The 'predict_dataloader' does not have many workers which may be a bottleneck. Consider increasing the value of the `num_workers` argument` to `num_workers=15` in the `DataLoader` to improve performance.\n"
     ]
    },
    {
     "name": "stdout",
     "output_type": "stream",
     "text": [
      "Predicting DataLoader 0:   0%|          | 0/1 [00:00<?, ?it/s]"
     ]
    },
    {
     "name": "stderr",
     "output_type": "stream",
     "text": [
      "Simulation:   0%|          | 0/50 [00:00<?, ?it/s]\u001b[A"
     ]
    },
    {
     "name": "stdout",
     "output_type": "stream",
     "text": [
      "Predicting DataLoader 0: 100%|██████████| 1/1 [00:02<00:00,  0.48it/s]\n",
      "\n"
     ]
    },
    {
     "name": "stderr",
     "output_type": "stream",
     "text": [
      "Formatting sequences: 100%|██████████| 2/2 [00:00<00:00, 3120.76it/s]"
     ]
    },
    {
     "name": "stdout",
     "output_type": "stream",
     "text": [
      "Data successfully saved to C:\\Users\\enzo.cAo\\Documents\\Projects\\finance\\projet_recherche\\New_LTPP\\artifacts\\checkpoints\\NHP\\test\\distributions_comparisons\\simulations.json\n",
      "\u001b[38;20m2025-10-03 22:30:18,738 - comparator.py[pid:504;line:142:create_comparator] - INFO: Using TPPDatasetExtractor for optimized data extraction\u001b[0m\n",
      "\u001b[38;20m2025-10-03 22:30:18,739 - comparator.py[pid:504;line:69:run_comprehensive_evaluation] - INFO: Starting comprehensive temporal point process evaluation...\u001b[0m\n",
      "\u001b[38;20m2025-10-03 22:30:18,739 - comparator.py[pid:504;line:69:run_comprehensive_evaluation] - INFO: Starting comprehensive temporal point process evaluation...\u001b[0m\n",
      "\u001b[38;20m2025-10-03 22:30:18,741 - data_extractors.py[pid:504;line:71:_extract_all_data] - INFO: Extracting ground truth data from TPPDataset with 2 sequences...\u001b[0m\n",
      "\u001b[38;20m2025-10-03 22:30:18,745 - data_extractors.py[pid:504;line:120:_extract_all_data] - INFO: Successfully processed 2/2 sequences, extracted 56 events\u001b[0m\n",
      "\u001b[38;20m2025-10-03 22:30:18,748 - data_extractors.py[pid:504;line:279:_extract_all_data] - INFO: Processing simulation data...\u001b[0m\n",
      "\u001b[38;20m2025-10-03 22:30:18,741 - data_extractors.py[pid:504;line:71:_extract_all_data] - INFO: Extracting ground truth data from TPPDataset with 2 sequences...\u001b[0m\n",
      "\u001b[38;20m2025-10-03 22:30:18,745 - data_extractors.py[pid:504;line:120:_extract_all_data] - INFO: Successfully processed 2/2 sequences, extracted 56 events\u001b[0m\n",
      "\u001b[38;20m2025-10-03 22:30:18,748 - data_extractors.py[pid:504;line:279:_extract_all_data] - INFO: Processing simulation data...\u001b[0m\n"
     ]
    },
    {
     "name": "stderr",
     "output_type": "stream",
     "text": [
      "\n"
     ]
    },
    {
     "name": "stdout",
     "output_type": "stream",
     "text": [
      "\u001b[38;20m2025-10-03 22:30:19,342 - distribution_analyzer.py[pid:504;line:121:plot_density_comparison] - INFO: Density comparison plot successfully saved to C:\\Users\\enzo.cAo\\Documents\\Projects\\finance\\projet_recherche\\New_LTPP\\artifacts\\checkpoints\\NHP\\test\\distributions_comparisons\\comparison_inter_event_time_dist.png\u001b[0m\n",
      "\u001b[38;20m2025-10-03 22:30:19,777 - plot_generators.py[pid:504;line:168:generate_plot] - INFO: Event type distribution comparison plot saved to C:\\Users\\enzo.cAo\\Documents\\Projects\\finance\\projet_recherche\\New_LTPP\\artifacts\\checkpoints\\NHP\\test\\distributions_comparisons\\comparison_event_type_dist.png\u001b[0m\n",
      "\u001b[38;20m2025-10-03 22:30:19,777 - plot_generators.py[pid:504;line:168:generate_plot] - INFO: Event type distribution comparison plot saved to C:\\Users\\enzo.cAo\\Documents\\Projects\\finance\\projet_recherche\\New_LTPP\\artifacts\\checkpoints\\NHP\\test\\distributions_comparisons\\comparison_event_type_dist.png\u001b[0m\n",
      "\u001b[38;20m2025-10-03 22:30:20,290 - plot_generators.py[pid:504;line:260:generate_plot] - INFO: Sequence length distribution comparison plot saved to C:\\Users\\enzo.cAo\\Documents\\Projects\\finance\\projet_recherche\\New_LTPP\\artifacts\\checkpoints\\NHP\\test\\distributions_comparisons\\comparison_sequence_length_dist.png\u001b[0m\n",
      "\u001b[38;20m2025-10-03 22:30:20,290 - plot_generators.py[pid:504;line:260:generate_plot] - INFO: Sequence length distribution comparison plot saved to C:\\Users\\enzo.cAo\\Documents\\Projects\\finance\\projet_recherche\\New_LTPP\\artifacts\\checkpoints\\NHP\\test\\distributions_comparisons\\comparison_sequence_length_dist.png\u001b[0m\n",
      "\u001b[38;20m2025-10-03 22:30:21,097 - plot_generators.py[pid:504;line:345:generate_plot] - INFO: Cross-correlation comparison plot saved to C:\\Users\\enzo.cAo\\Documents\\Projects\\finance\\projet_recherche\\New_LTPP\\artifacts\\checkpoints\\NHP\\test\\distributions_comparisons\\comparison_cross_correlation_moments.png\u001b[0m\n",
      "\u001b[38;20m2025-10-03 22:30:21,099 - comparator.py[pid:504;line:97:run_comprehensive_evaluation] - INFO: Comprehensive evaluation completed successfully\u001b[0m\n",
      "\u001b[38;20m2025-10-03 22:30:21,099 - model_runner.py[pid:504;line:333:predict] - INFO: Running comprehensive evaluation of temporal point process distributions...\u001b[0m\n",
      "\u001b[38;20m2025-10-03 22:30:21,100 - comparator.py[pid:504;line:69:run_comprehensive_evaluation] - INFO: Starting comprehensive temporal point process evaluation...\u001b[0m\n",
      "\u001b[38;20m2025-10-03 22:30:21,097 - plot_generators.py[pid:504;line:345:generate_plot] - INFO: Cross-correlation comparison plot saved to C:\\Users\\enzo.cAo\\Documents\\Projects\\finance\\projet_recherche\\New_LTPP\\artifacts\\checkpoints\\NHP\\test\\distributions_comparisons\\comparison_cross_correlation_moments.png\u001b[0m\n",
      "\u001b[38;20m2025-10-03 22:30:21,099 - comparator.py[pid:504;line:97:run_comprehensive_evaluation] - INFO: Comprehensive evaluation completed successfully\u001b[0m\n",
      "\u001b[38;20m2025-10-03 22:30:21,099 - model_runner.py[pid:504;line:333:predict] - INFO: Running comprehensive evaluation of temporal point process distributions...\u001b[0m\n",
      "\u001b[38;20m2025-10-03 22:30:21,100 - comparator.py[pid:504;line:69:run_comprehensive_evaluation] - INFO: Starting comprehensive temporal point process evaluation...\u001b[0m\n",
      "\u001b[38;20m2025-10-03 22:30:21,636 - distribution_analyzer.py[pid:504;line:121:plot_density_comparison] - INFO: Density comparison plot successfully saved to C:\\Users\\enzo.cAo\\Documents\\Projects\\finance\\projet_recherche\\New_LTPP\\artifacts\\checkpoints\\NHP\\test\\distributions_comparisons\\comparison_inter_event_time_dist.png\u001b[0m\n",
      "\u001b[38;20m2025-10-03 22:30:21,636 - distribution_analyzer.py[pid:504;line:121:plot_density_comparison] - INFO: Density comparison plot successfully saved to C:\\Users\\enzo.cAo\\Documents\\Projects\\finance\\projet_recherche\\New_LTPP\\artifacts\\checkpoints\\NHP\\test\\distributions_comparisons\\comparison_inter_event_time_dist.png\u001b[0m\n",
      "\u001b[38;20m2025-10-03 22:30:22,019 - plot_generators.py[pid:504;line:168:generate_plot] - INFO: Event type distribution comparison plot saved to C:\\Users\\enzo.cAo\\Documents\\Projects\\finance\\projet_recherche\\New_LTPP\\artifacts\\checkpoints\\NHP\\test\\distributions_comparisons\\comparison_event_type_dist.png\u001b[0m\n",
      "\u001b[38;20m2025-10-03 22:30:22,019 - plot_generators.py[pid:504;line:168:generate_plot] - INFO: Event type distribution comparison plot saved to C:\\Users\\enzo.cAo\\Documents\\Projects\\finance\\projet_recherche\\New_LTPP\\artifacts\\checkpoints\\NHP\\test\\distributions_comparisons\\comparison_event_type_dist.png\u001b[0m\n",
      "\u001b[38;20m2025-10-03 22:30:22,463 - plot_generators.py[pid:504;line:260:generate_plot] - INFO: Sequence length distribution comparison plot saved to C:\\Users\\enzo.cAo\\Documents\\Projects\\finance\\projet_recherche\\New_LTPP\\artifacts\\checkpoints\\NHP\\test\\distributions_comparisons\\comparison_sequence_length_dist.png\u001b[0m\n",
      "\u001b[38;20m2025-10-03 22:30:22,463 - plot_generators.py[pid:504;line:260:generate_plot] - INFO: Sequence length distribution comparison plot saved to C:\\Users\\enzo.cAo\\Documents\\Projects\\finance\\projet_recherche\\New_LTPP\\artifacts\\checkpoints\\NHP\\test\\distributions_comparisons\\comparison_sequence_length_dist.png\u001b[0m\n",
      "\u001b[38;20m2025-10-03 22:30:23,352 - plot_generators.py[pid:504;line:345:generate_plot] - INFO: Cross-correlation comparison plot saved to C:\\Users\\enzo.cAo\\Documents\\Projects\\finance\\projet_recherche\\New_LTPP\\artifacts\\checkpoints\\NHP\\test\\distributions_comparisons\\comparison_cross_correlation_moments.png\u001b[0m\n",
      "\u001b[38;20m2025-10-03 22:30:23,353 - comparator.py[pid:504;line:97:run_comprehensive_evaluation] - INFO: Comprehensive evaluation completed successfully\u001b[0m\n",
      "\u001b[38;20m2025-10-03 22:30:23,354 - model_runner.py[pid:504;line:337:predict] - INFO: Simulations saved to C:\\Users\\enzo.cAo\\Documents\\Projects\\finance\\projet_recherche\\New_LTPP\\artifacts\\checkpoints\\NHP\\test\\distributions_comparisons\u001b[0m\n",
      "\u001b[38;20m2025-10-03 22:30:23,355 - model_runner.py[pid:504;line:339:predict] - INFO: Generating intensity graph...\u001b[0m\n",
      "\u001b[38;20m2025-10-03 22:30:23,352 - plot_generators.py[pid:504;line:345:generate_plot] - INFO: Cross-correlation comparison plot saved to C:\\Users\\enzo.cAo\\Documents\\Projects\\finance\\projet_recherche\\New_LTPP\\artifacts\\checkpoints\\NHP\\test\\distributions_comparisons\\comparison_cross_correlation_moments.png\u001b[0m\n",
      "\u001b[38;20m2025-10-03 22:30:23,353 - comparator.py[pid:504;line:97:run_comprehensive_evaluation] - INFO: Comprehensive evaluation completed successfully\u001b[0m\n",
      "\u001b[38;20m2025-10-03 22:30:23,354 - model_runner.py[pid:504;line:337:predict] - INFO: Simulations saved to C:\\Users\\enzo.cAo\\Documents\\Projects\\finance\\projet_recherche\\New_LTPP\\artifacts\\checkpoints\\NHP\\test\\distributions_comparisons\u001b[0m\n",
      "\u001b[38;20m2025-10-03 22:30:23,355 - model_runner.py[pid:504;line:339:predict] - INFO: Generating intensity graph...\u001b[0m\n",
      "Data successfully saved to C:\\Users\\enzo.cAo\\Documents\\Projects\\finance\\projet_recherche\\New_LTPP\\artifacts\\checkpoints\\NHP\\test\\distributions_comparisons\\NHP_intensity_data.json\n",
      "\u001b[38;20m2025-10-03 22:30:23,383 - basemodel.py[pid:504;line:1144:intensity_graph] - INFO: Données d'intensité sauvegardées dans C:\\Users\\enzo.cAo\\Documents\\Projects\\finance\\projet_recherche\\New_LTPP\\artifacts\\checkpoints\\NHP\\test\\distributions_comparisons\\NHP_intensity_data.json\u001b[0m\n",
      "Data successfully saved to C:\\Users\\enzo.cAo\\Documents\\Projects\\finance\\projet_recherche\\New_LTPP\\artifacts\\checkpoints\\NHP\\test\\distributions_comparisons\\NHP_intensity_data.json\n",
      "\u001b[38;20m2025-10-03 22:30:23,383 - basemodel.py[pid:504;line:1144:intensity_graph] - INFO: Données d'intensité sauvegardées dans C:\\Users\\enzo.cAo\\Documents\\Projects\\finance\\projet_recherche\\New_LTPP\\artifacts\\checkpoints\\NHP\\test\\distributions_comparisons\\NHP_intensity_data.json\u001b[0m\n",
      "\u001b[38;20m2025-10-03 22:30:23,645 - basemodel.py[pid:504;line:1196:intensity_graph] - INFO: Graphique d'intensité pour la marque 0 sauvegardé dans C:\\Users\\enzo.cAo\\Documents\\Projects\\finance\\projet_recherche\\New_LTPP\\artifacts\\checkpoints\\NHP\\test\\distributions_comparisons\\NHP_intensity_graph_mark_0.png\u001b[0m\n",
      "\u001b[38;20m2025-10-03 22:30:23,645 - basemodel.py[pid:504;line:1196:intensity_graph] - INFO: Graphique d'intensité pour la marque 0 sauvegardé dans C:\\Users\\enzo.cAo\\Documents\\Projects\\finance\\projet_recherche\\New_LTPP\\artifacts\\checkpoints\\NHP\\test\\distributions_comparisons\\NHP_intensity_graph_mark_0.png\u001b[0m\n",
      "\u001b[38;20m2025-10-03 22:30:23,893 - basemodel.py[pid:504;line:1196:intensity_graph] - INFO: Graphique d'intensité pour la marque 1 sauvegardé dans C:\\Users\\enzo.cAo\\Documents\\Projects\\finance\\projet_recherche\\New_LTPP\\artifacts\\checkpoints\\NHP\\test\\distributions_comparisons\\NHP_intensity_graph_mark_1.png\u001b[0m\n",
      "✅ Complete pipeline finished!\n",
      "📊 Results available in:\n",
      "   - Performance metrics\n",
      "   - Model simulations\n",
      "   - Distribution comparisons\n",
      "   - Analysis graphs\n",
      "\u001b[38;20m2025-10-03 22:30:23,893 - basemodel.py[pid:504;line:1196:intensity_graph] - INFO: Graphique d'intensité pour la marque 1 sauvegardé dans C:\\Users\\enzo.cAo\\Documents\\Projects\\finance\\projet_recherche\\New_LTPP\\artifacts\\checkpoints\\NHP\\test\\distributions_comparisons\\NHP_intensity_graph_mark_1.png\u001b[0m\n",
      "✅ Complete pipeline finished!\n",
      "📊 Results available in:\n",
      "   - Performance metrics\n",
      "   - Model simulations\n",
      "   - Distribution comparisons\n",
      "   - Analysis graphs\n"
     ]
    }
   ],
   "source": [
    "# Complete example: train → test → predict using RunnerConfigBuilder and RunnerManager\n",
    "print(\"🔄 Complete pipeline with predictions...\")\n",
    "\n",
    "print(\"🔮 Generating predictions and distribution comparisons...\")\n",
    "runner.run(phase=\"predict\")\n",
    "\n",
    "print(\"✅ Complete pipeline finished!\")\n",
    "print(\"📊 Results available in:\")\n",
    "print(\"   - Performance metrics\")\n",
    "print(\"   - Model simulations\") \n",
    "print(\"   - Distribution comparisons\")\n",
    "print(\"   - Analysis graphs\")"
   ]
  },
  {
   "cell_type": "markdown",
   "id": "c4aa3b9d",
   "metadata": {},
   "source": [
    "### 6.2 Simplified Alternative: Single Command\n",
    "\n",
    "If you want the complete pipeline all at once:"
   ]
  },
  {
   "cell_type": "code",
   "execution_count": 13,
   "id": "7ca0febb",
   "metadata": {},
   "outputs": [
    {
     "name": "stdout",
     "output_type": "stream",
     "text": [
      "\u001b[38;20m2025-10-03 22:39:34,629 - runner.py[pid:504;line:97:run] - INFO: Runner executing phases: ['train', 'test', 'predict']\u001b[0m\n",
      "\u001b[38;20m2025-10-03 22:39:34,630 - runner.py[pid:504;line:55:train] - INFO: === TRAINING PHASE ===\u001b[0m\n",
      "\u001b[38;20m2025-10-03 22:39:34,632 - model_runner.py[pid:504;line:251:train] - INFO: --- Starting Training for Model : NHP on dataset : test ---\u001b[0m\n",
      "\u001b[38;20m2025-10-03 22:39:34,633 - data_loader.py[pid:504;line:140:setup] - INFO: Setting up data for stage: fit\u001b[0m\n",
      "\u001b[38;20m2025-10-03 22:39:34,630 - runner.py[pid:504;line:55:train] - INFO: === TRAINING PHASE ===\u001b[0m\n",
      "\u001b[38;20m2025-10-03 22:39:34,632 - model_runner.py[pid:504;line:251:train] - INFO: --- Starting Training for Model : NHP on dataset : test ---\u001b[0m\n",
      "\u001b[38;20m2025-10-03 22:39:34,633 - data_loader.py[pid:504;line:140:setup] - INFO: Setting up data for stage: fit\u001b[0m\n",
      "\u001b[38;20m2025-10-03 22:39:40,457 - data_loader.py[pid:504;line:149:setup] - INFO: Train dataset created with 6 sequences\u001b[0m\n",
      "\u001b[38;20m2025-10-03 22:39:40,457 - data_loader.py[pid:504;line:149:setup] - INFO: Train dataset created with 6 sequences\u001b[0m\n",
      "\u001b[38;20m2025-10-03 22:39:44,554 - data_loader.py[pid:504;line:158:setup] - INFO: Validation dataset created with 2 sequences\u001b[0m\n",
      "\u001b[38;20m2025-10-03 22:39:44,554 - data_loader.py[pid:504;line:158:setup] - INFO: Validation dataset created with 2 sequences\u001b[0m\n"
     ]
    },
    {
     "name": "stderr",
     "output_type": "stream",
     "text": [
      "c:\\Users\\enzo.cAo\\Documents\\Projects\\finance\\projet_recherche\\New_LTPP\\.venv\\Lib\\site-packages\\lightning_fabric\\loggers\\csv_logs.py:268: Experiment logs directory C:\\Users\\enzo.cAo\\Documents\\Projects\\finance\\projet_recherche\\New_LTPP\\artifacts\\checkpoints\\NHP\\test\\csv_logs\\version_1 exists and is not empty. Previous log files in this directory will be deleted when the new ones are saved!\n",
      "c:\\Users\\enzo.cAo\\Documents\\Projects\\finance\\projet_recherche\\New_LTPP\\.venv\\Lib\\site-packages\\pytorch_lightning\\callbacks\\model_checkpoint.py:751: Checkpoint directory C:\\Users\\enzo.cAo\\Documents\\Projects\\finance\\projet_recherche\\New_LTPP\\artifacts\\checkpoints\\NHP\\test\\saved_model exists and is not empty.\n",
      "Restoring states from the checkpoint path at C:\\Users\\enzo.cAo\\Documents\\Projects\\finance\\projet_recherche\\New_LTPP\\artifacts\\checkpoints\\NHP\\test\\saved_model\\best.ckpt\n",
      "\n",
      "  | Name            | Type             | Params | Mode \n",
      "-------------------------------------------------------------\n",
      "0 | layer_type_emb  | Embedding        | 384    | train\n",
      "1 | rnn_cell        | ContTimeLSTMCell | 230 K  | train\n",
      "2 | layer_intensity | Sequential       | 260    | train\n",
      "-------------------------------------------------------------\n",
      "230 K     Trainable params\n",
      "0         Non-trainable params\n",
      "230 K     Total params\n",
      "0.924     Total estimated model params size (MB)\n",
      "7         Modules in train mode\n",
      "0         Modules in eval mode\n",
      "Restored all states from the checkpoint at C:\\Users\\enzo.cAo\\Documents\\Projects\\finance\\projet_recherche\\New_LTPP\\artifacts\\checkpoints\\NHP\\test\\saved_model\\best.ckpt\n",
      "\n",
      "  | Name            | Type             | Params | Mode \n",
      "-------------------------------------------------------------\n",
      "0 | layer_type_emb  | Embedding        | 384    | train\n",
      "1 | rnn_cell        | ContTimeLSTMCell | 230 K  | train\n",
      "2 | layer_intensity | Sequential       | 260    | train\n",
      "-------------------------------------------------------------\n",
      "230 K     Trainable params\n",
      "0         Non-trainable params\n",
      "230 K     Total params\n",
      "0.924     Total estimated model params size (MB)\n",
      "7         Modules in train mode\n",
      "0         Modules in eval mode\n",
      "Restored all states from the checkpoint at C:\\Users\\enzo.cAo\\Documents\\Projects\\finance\\projet_recherche\\New_LTPP\\artifacts\\checkpoints\\NHP\\test\\saved_model\\best.ckpt\n"
     ]
    },
    {
     "name": "stdout",
     "output_type": "stream",
     "text": [
      "Sanity Checking: |          | 0/? [00:00<?, ?it/s]"
     ]
    },
    {
     "name": "stderr",
     "output_type": "stream",
     "text": [
      "c:\\Users\\enzo.cAo\\Documents\\Projects\\finance\\projet_recherche\\New_LTPP\\.venv\\Lib\\site-packages\\pytorch_lightning\\trainer\\connectors\\data_connector.py:433: The 'val_dataloader' does not have many workers which may be a bottleneck. Consider increasing the value of the `num_workers` argument` to `num_workers=15` in the `DataLoader` to improve performance.\n"
     ]
    },
    {
     "name": "stdout",
     "output_type": "stream",
     "text": [
      "                                                                           "
     ]
    },
    {
     "name": "stderr",
     "output_type": "stream",
     "text": [
      "c:\\Users\\enzo.cAo\\Documents\\Projects\\finance\\projet_recherche\\New_LTPP\\.venv\\Lib\\site-packages\\pytorch_lightning\\trainer\\connectors\\data_connector.py:433: The 'train_dataloader' does not have many workers which may be a bottleneck. Consider increasing the value of the `num_workers` argument` to `num_workers=15` in the `DataLoader` to improve performance.\n",
      "c:\\Users\\enzo.cAo\\Documents\\Projects\\finance\\projet_recherche\\New_LTPP\\.venv\\Lib\\site-packages\\pytorch_lightning\\loops\\fit_loop.py:310: The number of training batches (1) is smaller than the logging interval Trainer(log_every_n_steps=5). Set a lower value for log_every_n_steps if you want to see logs for the training epoch.\n",
      "`Trainer.fit` stopped: `max_epochs=5` reached.\n"
     ]
    },
    {
     "name": "stdout",
     "output_type": "stream",
     "text": [
      "\u001b[31;1m2025-10-03 22:40:01,355 - runner.py[pid:504;line:61:test] - CRITICAL: === TESTING PHASE ===\u001b[0m\n",
      "\u001b[38;20m2025-10-03 22:40:01,357 - model_runner.py[pid:504;line:275:test] - INFO: --- Starting Testing for Model : NHP on dataset : test ---\u001b[0m\n",
      "\u001b[38;20m2025-10-03 22:40:01,359 - data_loader.py[pid:504;line:140:setup] - INFO: Setting up data for stage: test\u001b[0m\n",
      "\u001b[38;20m2025-10-03 22:40:01,357 - model_runner.py[pid:504;line:275:test] - INFO: --- Starting Testing for Model : NHP on dataset : test ---\u001b[0m\n",
      "\u001b[38;20m2025-10-03 22:40:01,359 - data_loader.py[pid:504;line:140:setup] - INFO: Setting up data for stage: test\u001b[0m\n"
     ]
    },
    {
     "name": "stderr",
     "output_type": "stream",
     "text": [
      "Restoring states from the checkpoint path at C:\\Users\\enzo.cAo\\Documents\\Projects\\finance\\projet_recherche\\New_LTPP\\artifacts\\checkpoints\\NHP\\test\\saved_model\\best.ckpt\n",
      "Loaded model weights from the checkpoint at C:\\Users\\enzo.cAo\\Documents\\Projects\\finance\\projet_recherche\\New_LTPP\\artifacts\\checkpoints\\NHP\\test\\saved_model\\best.ckpt\n",
      "Loaded model weights from the checkpoint at C:\\Users\\enzo.cAo\\Documents\\Projects\\finance\\projet_recherche\\New_LTPP\\artifacts\\checkpoints\\NHP\\test\\saved_model\\best.ckpt\n",
      "c:\\Users\\enzo.cAo\\Documents\\Projects\\finance\\projet_recherche\\New_LTPP\\.venv\\Lib\\site-packages\\pytorch_lightning\\trainer\\connectors\\data_connector.py:433: The 'test_dataloader' does not have many workers which may be a bottleneck. Consider increasing the value of the `num_workers` argument` to `num_workers=15` in the `DataLoader` to improve performance.\n",
      "c:\\Users\\enzo.cAo\\Documents\\Projects\\finance\\projet_recherche\\New_LTPP\\.venv\\Lib\\site-packages\\pytorch_lightning\\trainer\\connectors\\data_connector.py:433: The 'test_dataloader' does not have many workers which may be a bottleneck. Consider increasing the value of the `num_workers` argument` to `num_workers=15` in the `DataLoader` to improve performance.\n"
     ]
    },
    {
     "name": "stdout",
     "output_type": "stream",
     "text": [
      "Testing DataLoader 0: 100%|██████████| 1/1 [00:00<00:00, 11.42it/s]\n",
      "Testing DataLoader 0: 100%|██████████| 1/1 [00:00<00:00, 11.42it/s]\n"
     ]
    },
    {
     "data": {
      "text/html": [
       "<pre style=\"white-space:pre;overflow-x:auto;line-height:normal;font-family:Menlo,'DejaVu Sans Mono',consolas,'Courier New',monospace\">┏━━━━━━━━━━━━━━━━━━━━━━━━━━━┳━━━━━━━━━━━━━━━━━━━━━━━━━━━┓\n",
       "┃<span style=\"font-weight: bold\">        Test metric        </span>┃<span style=\"font-weight: bold\">       DataLoader 0        </span>┃\n",
       "┡━━━━━━━━━━━━━━━━━━━━━━━━━━━╇━━━━━━━━━━━━━━━━━━━━━━━━━━━┩\n",
       "│<span style=\"color: #008080; text-decoration-color: #008080\">       cross_entropy       </span>│<span style=\"color: #800080; text-decoration-color: #800080\">    0.49844682216644287    </span>│\n",
       "│<span style=\"color: #008080; text-decoration-color: #008080\">       macro_f1score       </span>│<span style=\"color: #800080; text-decoration-color: #800080\">     81.37931060791016     </span>│\n",
       "│<span style=\"color: #008080; text-decoration-color: #008080\">         precision         </span>│<span style=\"color: #800080; text-decoration-color: #800080\">     81.37931060791016     </span>│\n",
       "│<span style=\"color: #008080; text-decoration-color: #008080\">          recall           </span>│<span style=\"color: #800080; text-decoration-color: #800080\">     81.37931060791016     </span>│\n",
       "│<span style=\"color: #008080; text-decoration-color: #008080\">         test_loss         </span>│<span style=\"color: #800080; text-decoration-color: #800080\">    1.8649168014526367     </span>│\n",
       "│<span style=\"color: #008080; text-decoration-color: #008080\">         time_mae          </span>│<span style=\"color: #800080; text-decoration-color: #800080\">     1.731859803199768     </span>│\n",
       "│<span style=\"color: #008080; text-decoration-color: #008080\">         time_rmse         </span>│<span style=\"color: #800080; text-decoration-color: #800080\">     2.850342273712158     </span>│\n",
       "│<span style=\"color: #008080; text-decoration-color: #008080\">       type_accuracy       </span>│<span style=\"color: #800080; text-decoration-color: #800080\">     81.48148345947266     </span>│\n",
       "└───────────────────────────┴───────────────────────────┘\n",
       "</pre>\n"
      ],
      "text/plain": [
       "┏━━━━━━━━━━━━━━━━━━━━━━━━━━━┳━━━━━━━━━━━━━━━━━━━━━━━━━━━┓\n",
       "┃\u001b[1m \u001b[0m\u001b[1m       Test metric       \u001b[0m\u001b[1m \u001b[0m┃\u001b[1m \u001b[0m\u001b[1m      DataLoader 0       \u001b[0m\u001b[1m \u001b[0m┃\n",
       "┡━━━━━━━━━━━━━━━━━━━━━━━━━━━╇━━━━━━━━━━━━━━━━━━━━━━━━━━━┩\n",
       "│\u001b[36m \u001b[0m\u001b[36m      cross_entropy      \u001b[0m\u001b[36m \u001b[0m│\u001b[35m \u001b[0m\u001b[35m   0.49844682216644287   \u001b[0m\u001b[35m \u001b[0m│\n",
       "│\u001b[36m \u001b[0m\u001b[36m      macro_f1score      \u001b[0m\u001b[36m \u001b[0m│\u001b[35m \u001b[0m\u001b[35m    81.37931060791016    \u001b[0m\u001b[35m \u001b[0m│\n",
       "│\u001b[36m \u001b[0m\u001b[36m        precision        \u001b[0m\u001b[36m \u001b[0m│\u001b[35m \u001b[0m\u001b[35m    81.37931060791016    \u001b[0m\u001b[35m \u001b[0m│\n",
       "│\u001b[36m \u001b[0m\u001b[36m         recall          \u001b[0m\u001b[36m \u001b[0m│\u001b[35m \u001b[0m\u001b[35m    81.37931060791016    \u001b[0m\u001b[35m \u001b[0m│\n",
       "│\u001b[36m \u001b[0m\u001b[36m        test_loss        \u001b[0m\u001b[36m \u001b[0m│\u001b[35m \u001b[0m\u001b[35m   1.8649168014526367    \u001b[0m\u001b[35m \u001b[0m│\n",
       "│\u001b[36m \u001b[0m\u001b[36m        time_mae         \u001b[0m\u001b[36m \u001b[0m│\u001b[35m \u001b[0m\u001b[35m    1.731859803199768    \u001b[0m\u001b[35m \u001b[0m│\n",
       "│\u001b[36m \u001b[0m\u001b[36m        time_rmse        \u001b[0m\u001b[36m \u001b[0m│\u001b[35m \u001b[0m\u001b[35m    2.850342273712158    \u001b[0m\u001b[35m \u001b[0m│\n",
       "│\u001b[36m \u001b[0m\u001b[36m      type_accuracy      \u001b[0m\u001b[36m \u001b[0m│\u001b[35m \u001b[0m\u001b[35m    81.48148345947266    \u001b[0m\u001b[35m \u001b[0m│\n",
       "└───────────────────────────┴───────────────────────────┘\n"
      ]
     },
     "metadata": {},
     "output_type": "display_data"
    },
    {
     "name": "stdout",
     "output_type": "stream",
     "text": [
      "\u001b[38;20m2025-10-03 22:40:17,068 - model_runner.py[pid:504;line:299:test] - INFO: Test results saved to C:\\Users\\enzo.cAo\\Documents\\Projects\\finance\\projet_recherche\\New_LTPP\\artifacts\\checkpoints\\NHP\\test\\saved_model\\test_results.json\u001b[0m\n",
      "\u001b[31;1m2025-10-03 22:40:17,070 - runner.py[pid:504;line:67:predict] - CRITICAL: === PREDICTION PHASE ===\u001b[0m\n",
      "\u001b[38;20m2025-10-03 22:40:17,071 - model_runner.py[pid:504;line:305:predict] - INFO: --- Starting Prediction for Model : NHP on dataset : test ---\u001b[0m\n",
      "\u001b[38;20m2025-10-03 22:40:17,072 - data_loader.py[pid:504;line:140:setup] - INFO: Setting up data for stage: predict\u001b[0m\n",
      "\u001b[31;1m2025-10-03 22:40:17,070 - runner.py[pid:504;line:67:predict] - CRITICAL: === PREDICTION PHASE ===\u001b[0m\n",
      "\u001b[38;20m2025-10-03 22:40:17,071 - model_runner.py[pid:504;line:305:predict] - INFO: --- Starting Prediction for Model : NHP on dataset : test ---\u001b[0m\n",
      "\u001b[38;20m2025-10-03 22:40:17,072 - data_loader.py[pid:504;line:140:setup] - INFO: Setting up data for stage: predict\u001b[0m\n"
     ]
    },
    {
     "name": "stderr",
     "output_type": "stream",
     "text": [
      "Restoring states from the checkpoint path at C:\\Users\\enzo.cAo\\Documents\\Projects\\finance\\projet_recherche\\New_LTPP\\artifacts\\checkpoints\\NHP\\test\\saved_model\\best.ckpt\n",
      "Loaded model weights from the checkpoint at C:\\Users\\enzo.cAo\\Documents\\Projects\\finance\\projet_recherche\\New_LTPP\\artifacts\\checkpoints\\NHP\\test\\saved_model\\best.ckpt\n",
      "Loaded model weights from the checkpoint at C:\\Users\\enzo.cAo\\Documents\\Projects\\finance\\projet_recherche\\New_LTPP\\artifacts\\checkpoints\\NHP\\test\\saved_model\\best.ckpt\n",
      "c:\\Users\\enzo.cAo\\Documents\\Projects\\finance\\projet_recherche\\New_LTPP\\.venv\\Lib\\site-packages\\pytorch_lightning\\trainer\\connectors\\data_connector.py:433: The 'predict_dataloader' does not have many workers which may be a bottleneck. Consider increasing the value of the `num_workers` argument` to `num_workers=15` in the `DataLoader` to improve performance.\n",
      "c:\\Users\\enzo.cAo\\Documents\\Projects\\finance\\projet_recherche\\New_LTPP\\.venv\\Lib\\site-packages\\pytorch_lightning\\trainer\\connectors\\data_connector.py:433: The 'predict_dataloader' does not have many workers which may be a bottleneck. Consider increasing the value of the `num_workers` argument` to `num_workers=15` in the `DataLoader` to improve performance.\n"
     ]
    },
    {
     "name": "stdout",
     "output_type": "stream",
     "text": [
      "Predicting DataLoader 0:   0%|          | 0/1 [00:00<?, ?it/s]"
     ]
    },
    {
     "name": "stderr",
     "output_type": "stream",
     "text": [
      "Simulation:   0%|          | 0/50 [00:00<?, ?it/s]\u001b[A"
     ]
    },
    {
     "name": "stdout",
     "output_type": "stream",
     "text": [
      "Predicting DataLoader 0: 100%|██████████| 1/1 [00:01<00:00,  0.68it/s]\n",
      "\n"
     ]
    },
    {
     "name": "stderr",
     "output_type": "stream",
     "text": [
      "Formatting sequences: 100%|██████████| 4/4 [00:00<00:00, 4452.55it/s]"
     ]
    },
    {
     "name": "stdout",
     "output_type": "stream",
     "text": [
      "Data successfully saved to C:\\Users\\enzo.cAo\\Documents\\Projects\\finance\\projet_recherche\\New_LTPP\\artifacts\\checkpoints\\NHP\\test\\distributions_comparisons\\simulations.json\n",
      "\u001b[38;20m2025-10-03 22:40:34,443 - comparator.py[pid:504;line:142:create_comparator] - INFO: Using TPPDatasetExtractor for optimized data extraction\u001b[0m\n",
      "\u001b[38;20m2025-10-03 22:40:34,444 - comparator.py[pid:504;line:69:run_comprehensive_evaluation] - INFO: Starting comprehensive temporal point process evaluation...\u001b[0m\n",
      "\u001b[38;20m2025-10-03 22:40:34,444 - data_extractors.py[pid:504;line:71:_extract_all_data] - INFO: Extracting ground truth data from TPPDataset with 2 sequences...\u001b[0m\n",
      "\u001b[38;20m2025-10-03 22:40:34,447 - data_extractors.py[pid:504;line:120:_extract_all_data] - INFO: Successfully processed 2/2 sequences, extracted 56 events\u001b[0m\n",
      "\u001b[38;20m2025-10-03 22:40:34,448 - data_extractors.py[pid:504;line:279:_extract_all_data] - INFO: Processing simulation data...\u001b[0m\n",
      "\u001b[38;20m2025-10-03 22:40:34,444 - comparator.py[pid:504;line:69:run_comprehensive_evaluation] - INFO: Starting comprehensive temporal point process evaluation...\u001b[0m\n",
      "\u001b[38;20m2025-10-03 22:40:34,444 - data_extractors.py[pid:504;line:71:_extract_all_data] - INFO: Extracting ground truth data from TPPDataset with 2 sequences...\u001b[0m\n",
      "\u001b[38;20m2025-10-03 22:40:34,447 - data_extractors.py[pid:504;line:120:_extract_all_data] - INFO: Successfully processed 2/2 sequences, extracted 56 events\u001b[0m\n",
      "\u001b[38;20m2025-10-03 22:40:34,448 - data_extractors.py[pid:504;line:279:_extract_all_data] - INFO: Processing simulation data...\u001b[0m\n"
     ]
    },
    {
     "name": "stderr",
     "output_type": "stream",
     "text": [
      "\n"
     ]
    },
    {
     "name": "stdout",
     "output_type": "stream",
     "text": [
      "\u001b[38;20m2025-10-03 22:40:35,069 - distribution_analyzer.py[pid:504;line:121:plot_density_comparison] - INFO: Density comparison plot successfully saved to C:\\Users\\enzo.cAo\\Documents\\Projects\\finance\\projet_recherche\\New_LTPP\\artifacts\\checkpoints\\NHP\\test\\distributions_comparisons\\comparison_inter_event_time_dist.png\u001b[0m\n",
      "\u001b[38;20m2025-10-03 22:40:35,510 - plot_generators.py[pid:504;line:168:generate_plot] - INFO: Event type distribution comparison plot saved to C:\\Users\\enzo.cAo\\Documents\\Projects\\finance\\projet_recherche\\New_LTPP\\artifacts\\checkpoints\\NHP\\test\\distributions_comparisons\\comparison_event_type_dist.png\u001b[0m\n",
      "\u001b[38;20m2025-10-03 22:40:35,510 - plot_generators.py[pid:504;line:168:generate_plot] - INFO: Event type distribution comparison plot saved to C:\\Users\\enzo.cAo\\Documents\\Projects\\finance\\projet_recherche\\New_LTPP\\artifacts\\checkpoints\\NHP\\test\\distributions_comparisons\\comparison_event_type_dist.png\u001b[0m\n",
      "\u001b[38;20m2025-10-03 22:40:35,922 - plot_generators.py[pid:504;line:260:generate_plot] - INFO: Sequence length distribution comparison plot saved to C:\\Users\\enzo.cAo\\Documents\\Projects\\finance\\projet_recherche\\New_LTPP\\artifacts\\checkpoints\\NHP\\test\\distributions_comparisons\\comparison_sequence_length_dist.png\u001b[0m\n",
      "\u001b[38;20m2025-10-03 22:40:35,922 - plot_generators.py[pid:504;line:260:generate_plot] - INFO: Sequence length distribution comparison plot saved to C:\\Users\\enzo.cAo\\Documents\\Projects\\finance\\projet_recherche\\New_LTPP\\artifacts\\checkpoints\\NHP\\test\\distributions_comparisons\\comparison_sequence_length_dist.png\u001b[0m\n",
      "\u001b[38;20m2025-10-03 22:40:36,741 - plot_generators.py[pid:504;line:345:generate_plot] - INFO: Cross-correlation comparison plot saved to C:\\Users\\enzo.cAo\\Documents\\Projects\\finance\\projet_recherche\\New_LTPP\\artifacts\\checkpoints\\NHP\\test\\distributions_comparisons\\comparison_cross_correlation_moments.png\u001b[0m\n",
      "\u001b[38;20m2025-10-03 22:40:36,743 - comparator.py[pid:504;line:97:run_comprehensive_evaluation] - INFO: Comprehensive evaluation completed successfully\u001b[0m\n",
      "\u001b[38;20m2025-10-03 22:40:36,744 - model_runner.py[pid:504;line:333:predict] - INFO: Running comprehensive evaluation of temporal point process distributions...\u001b[0m\n",
      "\u001b[38;20m2025-10-03 22:40:36,745 - comparator.py[pid:504;line:69:run_comprehensive_evaluation] - INFO: Starting comprehensive temporal point process evaluation...\u001b[0m\n",
      "\u001b[38;20m2025-10-03 22:40:36,741 - plot_generators.py[pid:504;line:345:generate_plot] - INFO: Cross-correlation comparison plot saved to C:\\Users\\enzo.cAo\\Documents\\Projects\\finance\\projet_recherche\\New_LTPP\\artifacts\\checkpoints\\NHP\\test\\distributions_comparisons\\comparison_cross_correlation_moments.png\u001b[0m\n",
      "\u001b[38;20m2025-10-03 22:40:36,743 - comparator.py[pid:504;line:97:run_comprehensive_evaluation] - INFO: Comprehensive evaluation completed successfully\u001b[0m\n",
      "\u001b[38;20m2025-10-03 22:40:36,744 - model_runner.py[pid:504;line:333:predict] - INFO: Running comprehensive evaluation of temporal point process distributions...\u001b[0m\n",
      "\u001b[38;20m2025-10-03 22:40:36,745 - comparator.py[pid:504;line:69:run_comprehensive_evaluation] - INFO: Starting comprehensive temporal point process evaluation...\u001b[0m\n",
      "\u001b[38;20m2025-10-03 22:40:37,413 - distribution_analyzer.py[pid:504;line:121:plot_density_comparison] - INFO: Density comparison plot successfully saved to C:\\Users\\enzo.cAo\\Documents\\Projects\\finance\\projet_recherche\\New_LTPP\\artifacts\\checkpoints\\NHP\\test\\distributions_comparisons\\comparison_inter_event_time_dist.png\u001b[0m\n",
      "\u001b[38;20m2025-10-03 22:40:37,413 - distribution_analyzer.py[pid:504;line:121:plot_density_comparison] - INFO: Density comparison plot successfully saved to C:\\Users\\enzo.cAo\\Documents\\Projects\\finance\\projet_recherche\\New_LTPP\\artifacts\\checkpoints\\NHP\\test\\distributions_comparisons\\comparison_inter_event_time_dist.png\u001b[0m\n",
      "\u001b[38;20m2025-10-03 22:40:37,785 - plot_generators.py[pid:504;line:168:generate_plot] - INFO: Event type distribution comparison plot saved to C:\\Users\\enzo.cAo\\Documents\\Projects\\finance\\projet_recherche\\New_LTPP\\artifacts\\checkpoints\\NHP\\test\\distributions_comparisons\\comparison_event_type_dist.png\u001b[0m\n",
      "\u001b[38;20m2025-10-03 22:40:37,785 - plot_generators.py[pid:504;line:168:generate_plot] - INFO: Event type distribution comparison plot saved to C:\\Users\\enzo.cAo\\Documents\\Projects\\finance\\projet_recherche\\New_LTPP\\artifacts\\checkpoints\\NHP\\test\\distributions_comparisons\\comparison_event_type_dist.png\u001b[0m\n",
      "\u001b[38;20m2025-10-03 22:40:38,256 - plot_generators.py[pid:504;line:260:generate_plot] - INFO: Sequence length distribution comparison plot saved to C:\\Users\\enzo.cAo\\Documents\\Projects\\finance\\projet_recherche\\New_LTPP\\artifacts\\checkpoints\\NHP\\test\\distributions_comparisons\\comparison_sequence_length_dist.png\u001b[0m\n",
      "\u001b[38;20m2025-10-03 22:40:38,256 - plot_generators.py[pid:504;line:260:generate_plot] - INFO: Sequence length distribution comparison plot saved to C:\\Users\\enzo.cAo\\Documents\\Projects\\finance\\projet_recherche\\New_LTPP\\artifacts\\checkpoints\\NHP\\test\\distributions_comparisons\\comparison_sequence_length_dist.png\u001b[0m\n",
      "\u001b[38;20m2025-10-03 22:40:39,058 - plot_generators.py[pid:504;line:345:generate_plot] - INFO: Cross-correlation comparison plot saved to C:\\Users\\enzo.cAo\\Documents\\Projects\\finance\\projet_recherche\\New_LTPP\\artifacts\\checkpoints\\NHP\\test\\distributions_comparisons\\comparison_cross_correlation_moments.png\u001b[0m\n",
      "\u001b[38;20m2025-10-03 22:40:39,059 - comparator.py[pid:504;line:97:run_comprehensive_evaluation] - INFO: Comprehensive evaluation completed successfully\u001b[0m\n",
      "\u001b[38;20m2025-10-03 22:40:39,060 - model_runner.py[pid:504;line:337:predict] - INFO: Simulations saved to C:\\Users\\enzo.cAo\\Documents\\Projects\\finance\\projet_recherche\\New_LTPP\\artifacts\\checkpoints\\NHP\\test\\distributions_comparisons\u001b[0m\n",
      "\u001b[38;20m2025-10-03 22:40:39,061 - model_runner.py[pid:504;line:339:predict] - INFO: Generating intensity graph...\u001b[0m\n",
      "\u001b[38;20m2025-10-03 22:40:39,058 - plot_generators.py[pid:504;line:345:generate_plot] - INFO: Cross-correlation comparison plot saved to C:\\Users\\enzo.cAo\\Documents\\Projects\\finance\\projet_recherche\\New_LTPP\\artifacts\\checkpoints\\NHP\\test\\distributions_comparisons\\comparison_cross_correlation_moments.png\u001b[0m\n",
      "\u001b[38;20m2025-10-03 22:40:39,059 - comparator.py[pid:504;line:97:run_comprehensive_evaluation] - INFO: Comprehensive evaluation completed successfully\u001b[0m\n",
      "\u001b[38;20m2025-10-03 22:40:39,060 - model_runner.py[pid:504;line:337:predict] - INFO: Simulations saved to C:\\Users\\enzo.cAo\\Documents\\Projects\\finance\\projet_recherche\\New_LTPP\\artifacts\\checkpoints\\NHP\\test\\distributions_comparisons\u001b[0m\n",
      "\u001b[38;20m2025-10-03 22:40:39,061 - model_runner.py[pid:504;line:339:predict] - INFO: Generating intensity graph...\u001b[0m\n",
      "Data successfully saved to C:\\Users\\enzo.cAo\\Documents\\Projects\\finance\\projet_recherche\\New_LTPP\\artifacts\\checkpoints\\NHP\\test\\distributions_comparisons\\NHP_intensity_data.json\n",
      "\u001b[38;20m2025-10-03 22:40:39,094 - basemodel.py[pid:504;line:1144:intensity_graph] - INFO: Données d'intensité sauvegardées dans C:\\Users\\enzo.cAo\\Documents\\Projects\\finance\\projet_recherche\\New_LTPP\\artifacts\\checkpoints\\NHP\\test\\distributions_comparisons\\NHP_intensity_data.json\u001b[0m\n",
      "Data successfully saved to C:\\Users\\enzo.cAo\\Documents\\Projects\\finance\\projet_recherche\\New_LTPP\\artifacts\\checkpoints\\NHP\\test\\distributions_comparisons\\NHP_intensity_data.json\n",
      "\u001b[38;20m2025-10-03 22:40:39,094 - basemodel.py[pid:504;line:1144:intensity_graph] - INFO: Données d'intensité sauvegardées dans C:\\Users\\enzo.cAo\\Documents\\Projects\\finance\\projet_recherche\\New_LTPP\\artifacts\\checkpoints\\NHP\\test\\distributions_comparisons\\NHP_intensity_data.json\u001b[0m\n",
      "\u001b[38;20m2025-10-03 22:40:39,357 - basemodel.py[pid:504;line:1196:intensity_graph] - INFO: Graphique d'intensité pour la marque 0 sauvegardé dans C:\\Users\\enzo.cAo\\Documents\\Projects\\finance\\projet_recherche\\New_LTPP\\artifacts\\checkpoints\\NHP\\test\\distributions_comparisons\\NHP_intensity_graph_mark_0.png\u001b[0m\n",
      "\u001b[38;20m2025-10-03 22:40:39,357 - basemodel.py[pid:504;line:1196:intensity_graph] - INFO: Graphique d'intensité pour la marque 0 sauvegardé dans C:\\Users\\enzo.cAo\\Documents\\Projects\\finance\\projet_recherche\\New_LTPP\\artifacts\\checkpoints\\NHP\\test\\distributions_comparisons\\NHP_intensity_graph_mark_0.png\u001b[0m\n",
      "\u001b[38;20m2025-10-03 22:40:39,597 - basemodel.py[pid:504;line:1196:intensity_graph] - INFO: Graphique d'intensité pour la marque 1 sauvegardé dans C:\\Users\\enzo.cAo\\Documents\\Projects\\finance\\projet_recherche\\New_LTPP\\artifacts\\checkpoints\\NHP\\test\\distributions_comparisons\\NHP_intensity_graph_mark_1.png\u001b[0m\n",
      "🎉 Complete pipeline executed with phase='all'!\n",
      "💡 This command is equivalent to the 3 separate phases above\n",
      "\u001b[38;20m2025-10-03 22:40:39,597 - basemodel.py[pid:504;line:1196:intensity_graph] - INFO: Graphique d'intensité pour la marque 1 sauvegardé dans C:\\Users\\enzo.cAo\\Documents\\Projects\\finance\\projet_recherche\\New_LTPP\\artifacts\\checkpoints\\NHP\\test\\distributions_comparisons\\NHP_intensity_graph_mark_1.png\u001b[0m\n",
      "🎉 Complete pipeline executed with phase='all'!\n",
      "💡 This command is equivalent to the 3 separate phases above\n"
     ]
    }
   ],
   "source": [
    "# Ultra-simple version: everything in one command\n",
    "# Use RunnerManager (runner variable) already created above\n",
    "runner.run(phase=\"all\")\n",
    "\n",
    "print(\"🎉 Complete pipeline executed with phase='all'!\")\n",
    "print(\"💡 This command is equivalent to the 3 separate phases above\")"
   ]
  },
  {
   "cell_type": "markdown",
   "id": "004da06e",
   "metadata": {},
   "source": [
    "**🎯 Main objective:** Verify that the model has learned the correct temporal distributions.\n",
    "\n",
    "**📊 What the `predict` phase generates:**\n",
    "- **Event simulations** based on the trained model\n",
    "- **Visual comparisons** between real and simulated data\n",
    "- **Statistical analyses** of temporal distributions\n",
    "- **Prediction quality metrics**\n",
    "\n",
    "**⚠️ Crucial point:** Without the prediction phase, you only have numerical metrics. With predictions, you can **see** if your model truly understands the temporal dynamics of your data."
   ]
  },
  {
   "cell_type": "code",
   "execution_count": 1,
   "id": "27e5ddb8",
   "metadata": {},
   "outputs": [
    {
     "name": "stdout",
     "output_type": "stream",
     "text": [
      "Deleted: analysis_plots\n",
      "Not found: training_results\n",
      "Deleted: benchmark_results\n",
      "Deleted: synthetic_data\n",
      "Not found: comparison_results\n",
      "Not found: prediction_analysis\n",
      "Not found: complete_pipeline\n",
      "Not found: checkpoints\n",
      "Not found: distributions_comparisons\n"
     ]
    }
   ],
   "source": [
    "import shutil\n",
    "import os\n",
    "\n",
    "folders_to_remove = [\n",
    "    \"analysis_plots\",\n",
    "    \"training_results\",\n",
    "    \"benchmark_results\",\n",
    "    \"synthetic_data\",\n",
    "    \"comparison_results\",\n",
    "    \"prediction_analysis\",\n",
    "    \"complete_pipeline\",\n",
    "    \"checkpoints\",\n",
    "    \"distributions_comparisons\"\n",
    "]\n",
    "\n",
    "for folder in folders_to_remove:\n",
    "    if os.path.exists(folder):\n",
    "        shutil.rmtree(folder)\n",
    "        print(f\"Deleted: {folder}\")\n",
    "    else:\n",
    "        print(f\"Not found: {folder}\")"
   ]
  }
 ],
 "metadata": {
  "kernelspec": {
   "display_name": "easy-tpp (3.13.2)",
   "language": "python",
   "name": "python3"
  },
  "language_info": {
   "codemirror_mode": {
    "name": "ipython",
    "version": 3
   },
   "file_extension": ".py",
   "mimetype": "text/x-python",
   "name": "python",
   "nbconvert_exporter": "python",
   "pygments_lexer": "ipython3",
   "version": "3.13.2"
  }
 },
 "nbformat": 4,
 "nbformat_minor": 5
}
