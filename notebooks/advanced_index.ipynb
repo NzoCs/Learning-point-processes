{
 "cells": [
  {
   "cell_type": "code",
   "execution_count": 2,
   "id": "28b7ba15",
   "metadata": {},
   "outputs": [],
   "source": [
    "import torch"
   ]
  },
  {
   "cell_type": "code",
   "execution_count": 5,
   "id": "18731736",
   "metadata": {},
   "outputs": [
    {
     "name": "stdout",
     "output_type": "stream",
     "text": [
      "torch.Size([9])\n"
     ]
    }
   ],
   "source": [
    "A = torch.arange(0, 9, 1)\n",
    "print(A.shape)"
   ]
  },
  {
   "cell_type": "code",
   "execution_count": 8,
   "id": "44f13008",
   "metadata": {},
   "outputs": [
    {
     "name": "stdout",
     "output_type": "stream",
     "text": [
      "tensor([[0, 1, 2],\n",
      "        [3, 4, 5],\n",
      "        [6, 7, 8]])\n"
     ]
    }
   ],
   "source": [
    "A_reshape = A.view(3,3)\n",
    "print(A_reshape)"
   ]
  },
  {
   "cell_type": "code",
   "execution_count": 27,
   "id": "77253ab0",
   "metadata": {},
   "outputs": [
    {
     "name": "stdout",
     "output_type": "stream",
     "text": [
      "tensor([[[2, 2, 2, 2],\n",
      "         [2, 2, 2, 2]],\n",
      "\n",
      "        [[5, 5, 5, 5],\n",
      "         [5, 5, 5, 5]],\n",
      "\n",
      "        [[8, 8, 8, 8],\n",
      "         [8, 8, 8, 8]]])\n"
     ]
    }
   ],
   "source": [
    "B = torch.ones(2, 4, dtype=int)*2\n",
    "A_indexed = A_reshape[:, B]\n",
    "print(A_indexed)"
   ]
  }
 ],
 "metadata": {
  "kernelspec": {
   "display_name": ".venv-py312",
   "language": "python",
   "name": "python3"
  },
  "language_info": {
   "codemirror_mode": {
    "name": "ipython",
    "version": 3
   },
   "file_extension": ".py",
   "mimetype": "text/x-python",
   "name": "python",
   "nbconvert_exporter": "python",
   "pygments_lexer": "ipython3",
   "version": "3.12.10"
  }
 },
 "nbformat": 4,
 "nbformat_minor": 5
}
